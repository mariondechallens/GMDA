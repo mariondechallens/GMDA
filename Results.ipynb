{
 "cells": [
  {
   "cell_type": "code",
   "execution_count": 1,
   "metadata": {},
   "outputs": [],
   "source": [
    "import pandas as pd\n",
    "import numpy as np\n",
    "import matplotlib.pyplot as plt\n",
    "from scipy.spatial.distance import pdist, squareform\n",
    "\n",
    "from kernel import *\n",
    "from MMD import *\n",
    "from feedback import *\n",
    "\n",
    "from tqdm import tqdm_notebook\n",
    "\n",
    "%load_ext autoreload\n",
    "%autoreload 2"
   ]
  },
  {
   "cell_type": "markdown",
   "metadata": {},
   "source": [
    "# Question 2 : Data generation"
   ]
  },
  {
   "cell_type": "code",
   "execution_count": 2,
   "metadata": {},
   "outputs": [
    {
     "data": {
      "image/png": "[encoded data removed]",
      "text/plain": [
       "<Figure size 432x288 with 1 Axes>"
      ]
     },
     "metadata": {
      "needs_background": "light"
     },
     "output_type": "display_data"
    }
   ],
   "source": [
    "def gaussian_mix(d,N,t,n,s=1, seed=1):\n",
    "    np.random.seed(seed)\n",
    "    cov = np.identity(d)\n",
    "    mean = np.zeros(d)\n",
    "    n_tot = N*n\n",
    "    res = np.zeros((d,n_tot))\n",
    "    for i in range(N):\n",
    "        gaus = np.random.multivariate_normal(mean + t*i, cov*(s**i),n).T\n",
    "        for j in range(d):\n",
    "            res[j][i*n:(i+1)*n] = gaus[j]\n",
    "            \n",
    "    return(res)  \n",
    "\n",
    "g1 = gaussian_mix(d=2,N=3,t=1,n=500, seed=1) \n",
    "g2 = gaussian_mix(d=2,N=3,t=12,n=500, seed=1) \n",
    "\n",
    "plt.scatter(g1[0], g1[1], label=\"g1\")\n",
    "plt.scatter(g2[0], g2[1], label=\"g2\")\n",
    "plt.legend()\n",
    "plt.show()"
   ]
  },
  {
   "cell_type": "markdown",
   "metadata": {},
   "source": [
    "# Question 3 : MMD and type I error"
   ]
  },
  {
   "cell_type": "markdown",
   "metadata": {},
   "source": [
    "The MMD test is now implemented.\n",
    "\n",
    "#### TODO : Propose a strategy to check whether MMD is a test of level α. Then, present experiments on the gaussian data. Discuss the results.\n",
    "\n",
    "The level alpha of a test is an upper bound of the probability of type I error (rejecting H0 while it is true).\n",
    "A TST of level alpha using MMD as test statistic has the acceptance region  : MMD <= sqrt(2K/m) (1 + sqrt(2log(1/alpha))).\n",
    "We have to check if the probability of rejecting H0 while it is true (type I error) with the MMD TST is upper-bounded by alpha."
   ]
  },
  {
   "cell_type": "markdown",
   "metadata": {},
   "source": [
    "Update 20190426:\n",
    "\n",
    "We should be careful about what the parameter alpha is.\n",
    "\n",
    "By looking at the shape of the decision region : the threshold of level alpha is stricly decreasing with respect to alpha, and as the acceptance region is defined as \"accept H0\" if the test statistic is below alpha, alpha should be large ie 95% and not 5%. We should then verify that the probability of rejecting H0 while it is true is less than 1 - alpha = 0.05.\n",
    "\n",
    "Experiments are conducted with MMD_b and MMD_u in the following section.\n",
    "\n",
    "+ What can be seen is that for MMD_b, parameter alpha = 0.05 produces no error under H0 but alpha = 0.95 does some and alpha = 0.99 even more. Although we still have that the probability of rejecting H0 under H0=0.0091 <= 1-alpha=0.01 hence the test is verified."
   ]
  },
  {
   "cell_type": "code",
   "execution_count": 12,
   "metadata": {},
   "outputs": [
    {
     "data": {
      "image/png": "[encoded data removed]",
      "text/plain": [
       "<Figure size 432x288 with 1 Axes>"
      ]
     },
     "metadata": {
      "needs_background": "light"
     },
     "output_type": "display_data"
    }
   ],
   "source": [
    "x = np.linspace(0.0001, 1)\n",
    "y = np.sqrt(np.log(1 / x))\n",
    "plt.plot(x, y)\n",
    "plt.title(\"Shape of sqrt(log(1 / alpha))\")\n",
    "plt.xlabel('alpha')\n",
    "plt.show()"
   ]
  },
  {
   "cell_type": "code",
   "execution_count": 3,
   "metadata": {},
   "outputs": [
    {
     "name": "stdout",
     "output_type": "stream",
     "text": [
      "MMD test of level alpha=0.05, biased=True estimator\n",
      "Kernel: Gaussian Kernel with sigma=1\n",
      "Result: H0 rejected, test statistic=0.448491693291057 > threshold=0.1258939141153885\n",
      "CPU times: user 186 ms, sys: 118 ms, total: 304 ms\n",
      "Wall time: 329 ms\n"
     ]
    }
   ],
   "source": [
    "%%time\n",
    "kernel_class = GaussianKernel()\n",
    "test = MMD_test(kernel_class=kernel_class, alpha=0.05, biased=True)\n",
    "\n",
    "test.fit(X=g1, Y=g2, verbose=True)\n",
    "test.get_results()"
   ]
  },
  {
   "cell_type": "markdown",
   "metadata": {},
   "source": [
    "### Results using $MMD_b$"
   ]
  },
  {
   "cell_type": "code",
   "execution_count": 8,
   "metadata": {},
   "outputs": [
    {
     "data": {
      "application/vnd.jupyter.widget-view+json": {
       "model_id": "be88124ca14748afa19e83cc183bf10e",
       "version_major": 2,
       "version_minor": 0
      },
      "text/plain": [
       "HBox(children=(IntProgress(value=0, max=10000), HTML(value='')))"
      ]
     },
     "metadata": {},
     "output_type": "display_data"
    },
    {
     "name": "stdout",
     "output_type": "stream",
     "text": [
      "proba of rejecting H0 under H0=0.0 <= alpha=0.05 ? True\n"
     ]
    }
   ],
   "source": [
    "############ PARAMETERS ############\n",
    "N = 10000\n",
    "alpha = 0.05\n",
    "biased = True\n",
    "####################################\n",
    "\n",
    "res = []\n",
    "kernel_class = GaussianKernel()\n",
    "g1 = gaussian_mix(d=2,N=3,t=1,n=50, seed=0) \n",
    "\n",
    "for i in tqdm_notebook(range(1, N+1)):\n",
    "    g2 = gaussian_mix(d=2,N=3,t=1,n=50, seed=i)  # should be identical to g1 except for random seed\n",
    "        \n",
    "    test = MMD_test(kernel_class=kernel_class, alpha=alpha, biased=biased)\n",
    "\n",
    "    test.fit(X=g1, Y=g2, verbose=False)\n",
    "    res.append(test.test_result)\n",
    "\n",
    "err = [x for x in res if x == 'rejected']\n",
    "p = len(err)/N\n",
    "print(f\"proba of rejecting H0 under H0={p} <= alpha={alpha} ? {p <= alpha}\")"
   ]
  },
  {
   "cell_type": "code",
   "execution_count": 13,
   "metadata": {},
   "outputs": [
    {
     "data": {
      "application/vnd.jupyter.widget-view+json": {
       "model_id": "1df1f6679d734fe59a050f34c3ce5819",
       "version_major": 2,
       "version_minor": 0
      },
      "text/plain": [
       "HBox(children=(IntProgress(value=0, max=10000), HTML(value='')))"
      ]
     },
     "metadata": {},
     "output_type": "display_data"
    },
    {
     "name": "stdout",
     "output_type": "stream",
     "text": [
      "proba of rejecting H0 under H0=0.0002 <= 1-alpha=0.050000000000000044 ? True\n"
     ]
    }
   ],
   "source": [
    "############ PARAMETERS ############\n",
    "N = 10000\n",
    "alpha = 0.95\n",
    "biased = True\n",
    "####################################\n",
    "\n",
    "res = []\n",
    "kernel_class = GaussianKernel()\n",
    "g1 = gaussian_mix(d=2,N=3,t=1,n=50, seed=0) \n",
    "\n",
    "for i in tqdm_notebook(range(1, N+1)):\n",
    "    g2 = gaussian_mix(d=2,N=3,t=1,n=50, seed=i)  # should be identical to g1 except for random seed\n",
    "        \n",
    "    test = MMD_test(kernel_class=kernel_class, alpha=alpha, biased=biased)\n",
    "\n",
    "    test.fit(X=g1, Y=g2, verbose=False)\n",
    "    res.append(test.test_result)\n",
    "\n",
    "err = [x for x in res if x == 'rejected']\n",
    "p = len(err)/N\n",
    "print(f\"proba of rejecting H0 under H0={p} <= 1-alpha={1-alpha} ? {p <= 1-alpha}\")"
   ]
  },
  {
   "cell_type": "code",
   "execution_count": 16,
   "metadata": {},
   "outputs": [
    {
     "data": {
      "application/vnd.jupyter.widget-view+json": {
       "model_id": "ee9704994bd14857bc558b232ce96bf3",
       "version_major": 2,
       "version_minor": 0
      },
      "text/plain": [
       "HBox(children=(IntProgress(value=0, max=10000), HTML(value='')))"
      ]
     },
     "metadata": {},
     "output_type": "display_data"
    },
    {
     "name": "stdout",
     "output_type": "stream",
     "text": [
      "proba of rejecting H0 under H0=0.0091 <= 1-alpha=0.010000000000000009 ? True\n"
     ]
    }
   ],
   "source": [
    "############ PARAMETERS ############\n",
    "N = 10000\n",
    "alpha = 0.99\n",
    "biased = True\n",
    "####################################\n",
    "\n",
    "res = []\n",
    "kernel_class = GaussianKernel()\n",
    "g1 = gaussian_mix(d=2,N=3,t=1,n=50, seed=0) \n",
    "\n",
    "for i in tqdm_notebook(range(1, N+1)):\n",
    "    g2 = gaussian_mix(d=2,N=3,t=1,n=50, seed=i)  # should be identical to g1 except for random seed\n",
    "        \n",
    "    test = MMD_test(kernel_class=kernel_class, alpha=alpha, biased=biased)\n",
    "\n",
    "    test.fit(X=g1, Y=g2, verbose=False)\n",
    "    res.append(test.test_result)\n",
    "\n",
    "err = [x for x in res if x == 'rejected']\n",
    "p = len(err)/N\n",
    "print(f\"proba of rejecting H0 under H0={p} <= 1-alpha={1-alpha} ? {p <= 1-alpha}\")"
   ]
  },
  {
   "cell_type": "markdown",
   "metadata": {},
   "source": [
    "### Results using $MMD_u$"
   ]
  },
  {
   "cell_type": "code",
   "execution_count": 15,
   "metadata": {},
   "outputs": [
    {
     "data": {
      "application/vnd.jupyter.widget-view+json": {
       "model_id": "4a65248e45324d95a3f135e2ad0e4150",
       "version_major": 2,
       "version_minor": 0
      },
      "text/plain": [
       "HBox(children=(IntProgress(value=0, max=10000), HTML(value='')))"
      ]
     },
     "metadata": {},
     "output_type": "display_data"
    },
    {
     "name": "stdout",
     "output_type": "stream",
     "text": [
      "proba of rejecting H0 under H0=0.0 <= 1-alpha=0.95 ? True\n"
     ]
    }
   ],
   "source": [
    "############ PARAMETERS ############\n",
    "N = 10000\n",
    "alpha = 0.05\n",
    "biased = False\n",
    "####################################\n",
    "\n",
    "res = []\n",
    "kernel_class = GaussianKernel()\n",
    "g1 = gaussian_mix(d=2,N=3,t=1,n=50, seed=0) \n",
    "\n",
    "for i in tqdm_notebook(range(1, N+1)):\n",
    "    g2 = gaussian_mix(d=2,N=3,t=1,n=50, seed=i)  # should be identical to g1 except for random seed\n",
    "        \n",
    "    test = MMD_test(kernel_class=kernel_class, alpha=alpha, biased=biased)\n",
    "\n",
    "    test.fit(X=g1, Y=g2, verbose=False)\n",
    "    res.append(test.test_result)\n",
    "\n",
    "err = [x for x in res if x == 'rejected']\n",
    "p = len(err)/N\n",
    "print(f\"proba of rejecting H0 under H0={p} <= 1-alpha={1-alpha} ? {p <= 1-alpha}\")"
   ]
  },
  {
   "cell_type": "code",
   "execution_count": 14,
   "metadata": {},
   "outputs": [
    {
     "data": {
      "application/vnd.jupyter.widget-view+json": {
       "model_id": "308c807faf6f4ac8a4629176a89c08ad",
       "version_major": 2,
       "version_minor": 0
      },
      "text/plain": [
       "HBox(children=(IntProgress(value=0, max=10000), HTML(value='')))"
      ]
     },
     "metadata": {},
     "output_type": "display_data"
    },
    {
     "name": "stdout",
     "output_type": "stream",
     "text": [
      "proba of rejecting H0 under H0=0.0 <= 1-alpha=0.050000000000000044 ? True\n"
     ]
    }
   ],
   "source": [
    "############ PARAMETERS ############\n",
    "N = 10000\n",
    "alpha = 0.95\n",
    "biased = False\n",
    "####################################\n",
    "\n",
    "res = []\n",
    "kernel_class = GaussianKernel()\n",
    "g1 = gaussian_mix(d=2,N=3,t=1,n=50, seed=0) \n",
    "\n",
    "for i in tqdm_notebook(range(1, N+1)):\n",
    "    g2 = gaussian_mix(d=2,N=3,t=1,n=50, seed=i)  # should be identical to g1 except for random seed\n",
    "        \n",
    "    test = MMD_test(kernel_class=kernel_class, alpha=alpha, biased=biased)\n",
    "\n",
    "    test.fit(X=g1, Y=g2, verbose=False)\n",
    "    res.append(test.test_result)\n",
    "\n",
    "err = [x for x in res if x == 'rejected']\n",
    "p = len(err)/N\n",
    "print(f\"proba of rejecting H0 under H0={p} <= 1-alpha={1-alpha} ? {p <= 1-alpha}\")"
   ]
  },
  {
   "cell_type": "code",
   "execution_count": 17,
   "metadata": {},
   "outputs": [
    {
     "data": {
      "application/vnd.jupyter.widget-view+json": {
       "model_id": "b09a8287d30c42919fabc3029d2324eb",
       "version_major": 2,
       "version_minor": 0
      },
      "text/plain": [
       "HBox(children=(IntProgress(value=0, max=10000), HTML(value='')))"
      ]
     },
     "metadata": {},
     "output_type": "display_data"
    },
    {
     "name": "stdout",
     "output_type": "stream",
     "text": [
      "proba of rejecting H0 under H0=0.0082 <= 1-alpha=0.010000000000000009 ? True\n"
     ]
    }
   ],
   "source": [
    "############ PARAMETERS ############\n",
    "N = 10000\n",
    "alpha = 0.99\n",
    "biased = False\n",
    "####################################\n",
    "\n",
    "res = []\n",
    "kernel_class = GaussianKernel()\n",
    "g1 = gaussian_mix(d=2,N=3,t=1,n=50, seed=0) \n",
    "\n",
    "for i in tqdm_notebook(range(1, N+1)):\n",
    "    g2 = gaussian_mix(d=2,N=3,t=1,n=50, seed=i)  # should be identical to g1 except for random seed\n",
    "        \n",
    "    test = MMD_test(kernel_class=kernel_class, alpha=alpha, biased=biased)\n",
    "\n",
    "    test.fit(X=g1, Y=g2, verbose=False)\n",
    "    res.append(test.test_result)\n",
    "\n",
    "err = [x for x in res if x == 'rejected']\n",
    "p = len(err)/N\n",
    "print(f\"proba of rejecting H0 under H0={p} <= 1-alpha={1-alpha} ? {p <= 1-alpha}\")"
   ]
  },
  {
   "cell_type": "markdown",
   "metadata": {},
   "source": [
    "p is the proba of rejecting H0 while it is true => upper-bounded by alpha => test of level alpha ?"
   ]
  },
  {
   "cell_type": "code",
   "execution_count": 16,
   "metadata": {},
   "outputs": [
    {
     "data": {
      "text/plain": [
       "1.0"
      ]
     },
     "execution_count": 16,
     "metadata": {},
     "output_type": "execute_result"
    }
   ],
   "source": [
    "N = 10\n",
    "res = []\n",
    "kernel_class = GaussianKernel()\n",
    "g1 = gaussian_mix(d=2,N=3,t=1,n=500, seed=0) \n",
    "\n",
    "for i in range(1, N+1):\n",
    "\n",
    "    g2 = gaussian_mix(d=2,N=3,t=1,n=500, seed=i) # should be identical to g1 except for random seed\n",
    "\n",
    "    test = MMD_test(kernel_class=kernel_class, alpha=0.05, biased=True)\n",
    "\n",
    "    test.fit(X=g1, Y=g2, verbose=False)\n",
    "    res.append(test.T-test.threshold)\n",
    "\n",
    "y = [x for x  in res if x <= 0]\n",
    "len(y)/N"
   ]
  },
  {
   "cell_type": "markdown",
   "metadata": {},
   "source": [
    "above is the proba of being in the acceptance region of level alpha when H0 is true "
   ]
  },
  {
   "cell_type": "markdown",
   "metadata": {},
   "source": [
    "par def du test, on a mis le threshold tel que le niveau soit alpha...."
   ]
  },
  {
   "cell_type": "code",
   "execution_count": 16,
   "metadata": {},
   "outputs": [
    {
     "name": "stdout",
     "output_type": "stream",
     "text": [
      "MMD test of level alpha=0.05, biased=True estimator\n",
      "Kernel: Gaussian Kernel with sigma=1\n",
      "Result: H0 accepted, test statistic=0.033965279725573436 <= threshold=0.1258939141153885\n"
     ]
    }
   ],
   "source": [
    "g1 = gaussian_mix(d=2,N=3,t=1,n=500, seed=1) \n",
    "g2 = gaussian_mix(d=2,N=3,t=1,n=500, seed=2) # should be identical to g1 except for random seed\n",
    "test = MMD_test(kernel_class=kernel_class, alpha=0.05, biased=True)\n",
    "test.fit(X=g1, Y=g2, verbose=True)\n"
   ]
  },
  {
   "cell_type": "markdown",
   "metadata": {},
   "source": [
    "#### Verification with old implementation"
   ]
  },
  {
   "cell_type": "code",
   "execution_count": 4,
   "metadata": {},
   "outputs": [],
   "source": [
    "from itertools import product   \n",
    "\n",
    "def gauss_kernel(x,y,s=1):\n",
    "    k = np.exp(-sum((x-y)**2)/(2*(s**2)))\n",
    "    return k\n",
    "\n",
    "def threshold(n,alpha=0.05):  # gauss kernel <=1, K = 1\n",
    "    t = np.sqrt(2/n)*(1+np.sqrt(2*np.log(1/alpha)))  #need n=m\n",
    "    return(t)\n",
    "\n",
    "def MMD2(g1,g2): # moins long ?\n",
    "    n = len(g1[0])\n",
    "    m = len(g2[0])\n",
    "    \n",
    "    mmd1 = [gauss_kernel(g1.T[i],g1.T[j])/n**2 for i,j in product(range(n),range(n))]\n",
    "    mmd2 = [gauss_kernel(g2.T[i],g2.T[j])/m**2 for i,j in product(range(m),range(m))]\n",
    "    mmd3 = [-2*gauss_kernel(g1.T[i],g2.T[j])/(m*n) for i,j in product(range(n),range(m))]\n",
    "    \n",
    "    MMD = np.sqrt(sum(mmd1) + sum(mmd2) + sum(mmd3))\n",
    "    \n",
    "    return(MMD) \n",
    "\n",
    "    \n",
    "def TST_MMD(g1,g2,alpha=0.05):\n",
    "    if len(g1) != len(g2):\n",
    "        print('data must have the same dimension')\n",
    "        mmd = 0\n",
    "        t=0\n",
    "\n",
    "    if len(g1[0]) != len(g1[0]):\n",
    "        print('data must have the same number of points')\n",
    "        mmd = 0\n",
    "        t = 0\n",
    "\n",
    "    if len(g1) == len(g2) and len(g1[0]) == len(g1[0]) :\n",
    "        mmd = MMD2(g1,g2)\n",
    "        t = threshold(len(g1[0]), alpha)\n",
    "        if mmd <= t:\n",
    "            print('H0 accepted at level',alpha)\n",
    "        else:\n",
    "            print('H0 rejected at level',alpha)\n",
    "    \n",
    "    return mmd, t"
   ]
  },
  {
   "cell_type": "code",
   "execution_count": 5,
   "metadata": {},
   "outputs": [
    {
     "name": "stdout",
     "output_type": "stream",
     "text": [
      "H0 rejected at level 0.05\n",
      "Wall time: 2min 7s\n"
     ]
    },
    {
     "data": {
      "text/plain": [
       "(0.44849169329103433, 0.1258939141153885)"
      ]
     },
     "execution_count": 5,
     "metadata": {},
     "output_type": "execute_result"
    }
   ],
   "source": [
    "%%time\n",
    "TST_MMD(g1,g2)"
   ]
  },
  {
   "cell_type": "markdown",
   "metadata": {},
   "source": [
    "# Question 4 : TST versus feedback under the null hypothesis.\n",
    "\n",
    "Sources : \n",
    "+ the course notes (1 Introduction to statistical hypothesis testing and two-sample tests),  \n",
    "+ B. Phipson and G.K. Smyth \"Permutation p-values should never be zero: calculating exact p- values when permutations are randomly drawn.\", Statistical Applications in Genetics and Molecular Biology, 9(1), 2010, and the SBL library\n",
    "\n",
    "Course notes eq 1.19 defines $b$ as the test statistic : it is the number of random datasets yielding a test statistic larger than that obtained\n",
    "on the observed dataset. Section 1.6.4 with eq 1.25 defines the p_value as $\\hat{p} = \\frac{b+1}{I + 1}$ (NB : `I` is `m` in the code following the notations from Phipson & Al.) in the case of a permutation test with no replacement.\n",
    "\n",
    "The JSD of each dataset will be taken as the average JSD of each point.\n",
    "\n",
    "The algorithm is as follows : \n",
    "1. Compute JSD using original labels\n",
    "2. Until `n_permutations` different permutations is done:\n",
    "    + Compute a new permutation over labels\n",
    "    + Check if it is a new permutation\n",
    "    + if yes : estimate JSD\n",
    "3. $b = \\sum_{permutation} \\mathbb{1}_{JSD_{permutation} > JSD_{obs}}$\n",
    "4. $p = \\frac{b+1}{n_{permutations} + 1}$\n",
    "5. Test result : accept if $p > \\alpha$ else reject\n",
    "\n",
    "We follow `sbl-ddbc-step-1-discrepancy.py` for computing local JSD but the subsample module in `random_device` is not used : permutation is rewritten."
   ]
  },
  {
   "cell_type": "markdown",
   "metadata": {},
   "source": [
    "Under $H_0$ : test should be accepted"
   ]
  },
  {
   "cell_type": "code",
   "execution_count": 7,
   "metadata": {},
   "outputs": [
    {
     "data": {
      "image/png": "[encoded data removed]",
      "text/plain": [
       "<Figure size 432x288 with 1 Axes>"
      ]
     },
     "metadata": {
      "needs_background": "light"
     },
     "output_type": "display_data"
    },
    {
     "name": "stdout",
     "output_type": "stream",
     "text": [
      "Feedback test of level alpha=0.05\n",
      "Number of permutations=50\n",
      "jsd_obs=0.015571730825168521, mean jsd_permutations=0.012853614982934214\n",
      "Result: H0 accepted, test statistic=8, p_value=0.17647058823529413 >= alpha=0.05\n",
      "Wall time: 1.43 s\n"
     ]
    }
   ],
   "source": [
    "%%time\n",
    "###################### PARAMETERS ########################\n",
    "n_permutations = 50  # number of permutation tests\n",
    "g1 = gaussian_mix(d=2,N=2,t=10,n=200, s=5, seed=1) \n",
    "g2 = gaussian_mix(d=2,N=2,t=10,n=200, s=5, seed=2)  # should be identical to g1 except for random seed\n",
    "##########################################################\n",
    "plt.scatter(g1[0], g1[1], label=\"g1\")\n",
    "plt.scatter(g2[0], g2[1], label=\"g2\")\n",
    "plt.legend()\n",
    "plt.show()\n",
    "\n",
    "rd.seed(0)\n",
    "kofn_power = 0.66\n",
    "fk = DDBC_feedback(\n",
    "    g1, g2,\n",
    ")\n",
    "fk.permutation_test(n_permutations=n_permutations)\n",
    "print(fk)"
   ]
  },
  {
   "cell_type": "markdown",
   "metadata": {},
   "source": [
    "#### Producing results on several gaussian data"
   ]
  },
  {
   "cell_type": "code",
   "execution_count": 35,
   "metadata": {},
   "outputs": [],
   "source": [
    "def JSD_test(g1,g2,n=50):\n",
    "    rd.seed(0)\n",
    "    kofn_power = 0.66\n",
    "    fk = DDBC_feedback(\n",
    "        g1, g2,\n",
    "    )\n",
    "    fk.permutation_test(n_permutations=n)\n",
    "    return fk   "
   ]
  },
  {
   "cell_type": "code",
   "execution_count": null,
   "metadata": {},
   "outputs": [],
   "source": [
    "N=100\n",
    "stat = []\n",
    "p_val = []\n",
    "for i in range(N) :\n",
    "    g1 = gaussian_mix(d=2,N=2,t=i,n=200, s=5, seed=1) \n",
    "    g2 = gaussian_mix(d=2,N=2,t=i,n=200, s=5, seed=2)  # should be identical to g1 except for random seed\n",
    "    fk = JSD_test(g1,g2)\n",
    "    stat.append(fk.b)\n",
    "    p_val.append(fk.p_value)plt.plot(stat,label = 'JSD test stat')\n",
    "plt.legend()\n",
    "plt.show()"
   ]
  },
  {
   "cell_type": "code",
   "execution_count": 33,
   "metadata": {},
   "outputs": [
    {
     "data": {
      "image/png": "[encoded data removed]",
      "text/plain": [
       "<Figure size 432x288 with 1 Axes>"
      ]
     },
     "metadata": {
      "needs_background": "light"
     },
     "output_type": "display_data"
    }
   ],
   "source": [
    "plt.plot(stat,label = 'JSD test stat')\n",
    "plt.legend()\n",
    "plt.show()"
   ]
  },
  {
   "cell_type": "code",
   "execution_count": 34,
   "metadata": {},
   "outputs": [
    {
     "data": {
      "image/png": "[encoded data removed]",
      "text/plain": [
       "<Figure size 432x288 with 1 Axes>"
      ]
     },
     "metadata": {
      "needs_background": "light"
     },
     "output_type": "display_data"
    }
   ],
   "source": [
    "plt.plot(p_val, label = 'p-value')\n",
    "plt.axhline(y=0.05, color='r', linestyle='-',label = 'alpha')\n",
    "plt.legend()\n",
    "plt.show()"
   ]
  },
  {
   "cell_type": "markdown",
   "metadata": {},
   "source": [
    "P always above alpha, we accept H0 in each case for distribution with p=q"
   ]
  },
  {
   "cell_type": "markdown",
   "metadata": {},
   "source": [
    "With the same datas as question 3, we have the same result."
   ]
  },
  {
   "cell_type": "code",
   "execution_count": 43,
   "metadata": {},
   "outputs": [
    {
     "data": {
      "application/vnd.jupyter.widget-view+json": {
       "model_id": "",
       "version_major": 2,
       "version_minor": 0
      },
      "text/plain": [
       "HBox(children=(IntProgress(value=0, max=10000), HTML(value='')))"
      ]
     },
     "metadata": {},
     "output_type": "display_data"
    },
    {
     "data": {
      "image/png": "[encoded data removed]",
      "text/plain": [
       "<Figure size 432x288 with 1 Axes>"
      ]
     },
     "metadata": {
      "needs_background": "light"
     },
     "output_type": "display_data"
    },
    {
     "data": {
      "image/png": "[encoded data removed]",
      "text/plain": [
       "<Figure size 432x288 with 1 Axes>"
      ]
     },
     "metadata": {
      "needs_background": "light"
     },
     "output_type": "display_data"
    }
   ],
   "source": [
    "N=10000\n",
    "stat = []\n",
    "p_val = []\n",
    "\n",
    "g1 = gaussian_mix(d=2,N=3,t=1,n=50, seed=0) \n",
    "for i in tqdm_notebook(range(1, N+1)):\n",
    "\n",
    "    g2 = gaussian_mix(d=2,N=3,t=1,n=50, seed=i)  # should be identical to g1 except for random seed\n",
    "    fk = JSD_test(g1,g2, n=15)\n",
    "    stat.append(fk.b)\n",
    "    p_val.append(fk.p_value)\n",
    "\n",
    "plt.plot(stat,label = 'JSD test stat')\n",
    "plt.legend()\n",
    "plt.show()\n",
    "\n",
    "plt.plot(p_val, label = 'p-value')\n",
    "plt.axhline(y=0.05, color='r', linestyle='-',label = 'alpha')\n",
    "plt.legend()\n",
    "plt.show()"
   ]
  },
  {
   "cell_type": "code",
   "execution_count": 53,
   "metadata": {},
   "outputs": [
    {
     "data": {
      "text/plain": [
       "1.0"
      ]
     },
     "execution_count": 53,
     "metadata": {},
     "output_type": "execute_result"
    }
   ],
   "source": [
    "np.mean(np.array(p_val) > 0.05)"
   ]
  },
  {
   "cell_type": "markdown",
   "metadata": {},
   "source": [
    "# Question 5 : TST versus feedback under the alternative"
   ]
  },
  {
   "cell_type": "markdown",
   "metadata": {},
   "source": [
    "Under $H_1$ : test should be rejected"
   ]
  },
  {
   "cell_type": "code",
   "execution_count": 7,
   "metadata": {},
   "outputs": [
    {
     "data": {
      "image/png": "[encoded data removed]",
      "text/plain": [
       "<Figure size 432x288 with 1 Axes>"
      ]
     },
     "metadata": {
      "needs_background": "light"
     },
     "output_type": "display_data"
    },
    {
     "name": "stdout",
     "output_type": "stream",
     "text": [
      "Feedback test of level alpha=0.05\n",
      "Number of permutations=50\n",
      "jsd_obs=0.45222371256371524, mean jsd_permutations=0.014271674090087958\n",
      "Result: H0 rejected, test statistic=0, p_value=0.0196078431372549 < alpha=0.05\n",
      "Wall time: 1.77 s\n"
     ]
    }
   ],
   "source": [
    "%%time\n",
    "###################### PARAMETERS ########################\n",
    "n_permutations = 50  # number of permutation tests\n",
    "g1 = gaussian_mix(d=2,N=3,t=5,n=100, s=1, seed=1) \n",
    "g2 = gaussian_mix(d=2,N=3,t=0,n=100, s=1, seed=2)  # should be different from g1\n",
    "##########################################################\n",
    "\n",
    "plt.scatter(g1[0], g1[1], label=\"g1\")\n",
    "plt.scatter(g2[0], g2[1], label=\"g2\")\n",
    "plt.legend()\n",
    "plt.show()\n",
    "\n",
    "rd.seed(0)\n",
    "kofn_power = 0.66\n",
    "fk = DDBC_feedback(\n",
    "    g1, g2,\n",
    ")\n",
    "fk.permutation_test(n_permutations=n_permutations)\n",
    "print(fk)"
   ]
  },
  {
   "cell_type": "markdown",
   "metadata": {},
   "source": [
    "### Comparison of the variation of the test statistic of MMD, and that of the JS divergence returned by the feedback"
   ]
  },
  {
   "cell_type": "code",
   "execution_count": 12,
   "metadata": {},
   "outputs": [
    {
     "data": {
      "image/png": "[encoded data removed]",
      "text/plain": [
       "<Figure size 432x288 with 1 Axes>"
      ]
     },
     "metadata": {
      "needs_background": "light"
     },
     "output_type": "display_data"
    },
    {
     "name": "stdout",
     "output_type": "stream",
     "text": [
      "JSD Test statistic\n",
      "0\n",
      "MMD Test statistic\n",
      "0.45602427920900546\n",
      "Wall time: 1.23 s\n"
     ]
    }
   ],
   "source": [
    "%%time\n",
    "###################### PARAMETERS ########################\n",
    "n_permutations = 50  # number of permutation tests\n",
    "g1 = gaussian_mix(d=2,N=3,t=5,n=100, s=1, seed=1) \n",
    "g2 = gaussian_mix(d=2,N=3,t=0,n=100, s=1, seed=2)  # should be different from g1\n",
    "##########################################################\n",
    "\n",
    "plt.scatter(g1[0], g1[1], label=\"g1\")\n",
    "plt.scatter(g2[0], g2[1], label=\"g2\")\n",
    "plt.legend()\n",
    "plt.show()\n",
    "\n",
    "rd.seed(0)\n",
    "kofn_power = 0.66\n",
    "fk = DDBC_feedback(\n",
    "    g1, g2,\n",
    ")\n",
    "fk.permutation_test(n_permutations=n_permutations)\n",
    "print('JSD Test statistic')\n",
    "print(fk.b)\n",
    "\n",
    "kernel_class = GaussianKernel()\n",
    "test = MMD_test(kernel_class=kernel_class, alpha=0.05, biased=True)\n",
    "\n",
    "test.fit(X=g1, Y=g2, verbose=False)\n",
    "print('MMD Test statistic')\n",
    "print(test.T)"
   ]
  },
  {
   "cell_type": "code",
   "execution_count": 35,
   "metadata": {},
   "outputs": [],
   "source": [
    "def compare(g1,g2):\n",
    "    \n",
    "    #JSD\n",
    "    rd.seed(0)\n",
    "    kofn_power = 0.66\n",
    "    fk = DDBC_feedback(\n",
    "        g1, g2,\n",
    "    )\n",
    "        \n",
    "    fk.permutation_test(n_permutations=n_permutations)\n",
    "\n",
    "    #MMD\n",
    "    kernel_class = GaussianKernel()\n",
    "    test = MMD_test(kernel_class=kernel_class, alpha=0.05, biased=True)\n",
    "\n",
    "    test.fit(X=g1, Y=g2, verbose=False)\n",
    "\n",
    "    return fk.b, test.T"
   ]
  },
  {
   "cell_type": "code",
   "execution_count": 39,
   "metadata": {},
   "outputs": [],
   "source": [
    "l_j = []\n",
    "l_m = []\n",
    "N = 100\n",
    "\n",
    "g2 = gaussian_mix(d=2,N=3,t=0,n=100, s=1, seed=2)\n",
    "for t in range(1,N):\n",
    "    g1 = gaussian_mix(d=2,N=3,t=t*0.01,n=100, s=1, seed=1)\n",
    "    comparison  = compare(g1,g2)\n",
    "    l_j.append(comparison[0])\n",
    "    l_m.append(comparison[1])\n",
    "    \n",
    "df = pd.DataFrame()\n",
    "df['JSD'] = l_j\n",
    "df['MMD'] = l_m\n",
    "df['translation'] = range(1,N)\n",
    "df['translation'] = df['translation']*0.01"
   ]
  },
  {
   "cell_type": "code",
   "execution_count": 40,
   "metadata": {},
   "outputs": [
    {
     "data": {
      "text/html": [
       "<div>\n",
       "<style scoped>\n",
       "    .dataframe tbody tr th:only-of-type {\n",
       "        vertical-align: middle;\n",
       "    }\n",
       "\n",
       "    .dataframe tbody tr th {\n",
       "        vertical-align: top;\n",
       "    }\n",
       "\n",
       "    .dataframe thead th {\n",
       "        text-align: right;\n",
       "    }\n",
       "</style>\n",
       "<table border=\"1\" class=\"dataframe\">\n",
       "  <thead>\n",
       "    <tr style=\"text-align: right;\">\n",
       "      <th></th>\n",
       "      <th>JSD</th>\n",
       "      <th>MMD</th>\n",
       "      <th>translation</th>\n",
       "    </tr>\n",
       "  </thead>\n",
       "  <tbody>\n",
       "    <tr>\n",
       "      <th>0</th>\n",
       "      <td>7</td>\n",
       "      <td>0.090389</td>\n",
       "      <td>0.01</td>\n",
       "    </tr>\n",
       "    <tr>\n",
       "      <th>1</th>\n",
       "      <td>6</td>\n",
       "      <td>0.094106</td>\n",
       "      <td>0.02</td>\n",
       "    </tr>\n",
       "    <tr>\n",
       "      <th>2</th>\n",
       "      <td>5</td>\n",
       "      <td>0.097857</td>\n",
       "      <td>0.03</td>\n",
       "    </tr>\n",
       "    <tr>\n",
       "      <th>3</th>\n",
       "      <td>4</td>\n",
       "      <td>0.101634</td>\n",
       "      <td>0.04</td>\n",
       "    </tr>\n",
       "    <tr>\n",
       "      <th>4</th>\n",
       "      <td>3</td>\n",
       "      <td>0.105433</td>\n",
       "      <td>0.05</td>\n",
       "    </tr>\n",
       "    <tr>\n",
       "      <th>5</th>\n",
       "      <td>3</td>\n",
       "      <td>0.109248</td>\n",
       "      <td>0.06</td>\n",
       "    </tr>\n",
       "    <tr>\n",
       "      <th>6</th>\n",
       "      <td>2</td>\n",
       "      <td>0.113075</td>\n",
       "      <td>0.07</td>\n",
       "    </tr>\n",
       "    <tr>\n",
       "      <th>7</th>\n",
       "      <td>2</td>\n",
       "      <td>0.116910</td>\n",
       "      <td>0.08</td>\n",
       "    </tr>\n",
       "    <tr>\n",
       "      <th>8</th>\n",
       "      <td>0</td>\n",
       "      <td>0.120751</td>\n",
       "      <td>0.09</td>\n",
       "    </tr>\n",
       "    <tr>\n",
       "      <th>9</th>\n",
       "      <td>0</td>\n",
       "      <td>0.124594</td>\n",
       "      <td>0.10</td>\n",
       "    </tr>\n",
       "    <tr>\n",
       "      <th>10</th>\n",
       "      <td>0</td>\n",
       "      <td>0.128436</td>\n",
       "      <td>0.11</td>\n",
       "    </tr>\n",
       "    <tr>\n",
       "      <th>11</th>\n",
       "      <td>0</td>\n",
       "      <td>0.132275</td>\n",
       "      <td>0.12</td>\n",
       "    </tr>\n",
       "    <tr>\n",
       "      <th>12</th>\n",
       "      <td>0</td>\n",
       "      <td>0.136108</td>\n",
       "      <td>0.13</td>\n",
       "    </tr>\n",
       "    <tr>\n",
       "      <th>13</th>\n",
       "      <td>0</td>\n",
       "      <td>0.139935</td>\n",
       "      <td>0.14</td>\n",
       "    </tr>\n",
       "    <tr>\n",
       "      <th>14</th>\n",
       "      <td>0</td>\n",
       "      <td>0.143752</td>\n",
       "      <td>0.15</td>\n",
       "    </tr>\n",
       "    <tr>\n",
       "      <th>15</th>\n",
       "      <td>0</td>\n",
       "      <td>0.147558</td>\n",
       "      <td>0.16</td>\n",
       "    </tr>\n",
       "    <tr>\n",
       "      <th>16</th>\n",
       "      <td>0</td>\n",
       "      <td>0.151352</td>\n",
       "      <td>0.17</td>\n",
       "    </tr>\n",
       "    <tr>\n",
       "      <th>17</th>\n",
       "      <td>0</td>\n",
       "      <td>0.155132</td>\n",
       "      <td>0.18</td>\n",
       "    </tr>\n",
       "    <tr>\n",
       "      <th>18</th>\n",
       "      <td>0</td>\n",
       "      <td>0.158897</td>\n",
       "      <td>0.19</td>\n",
       "    </tr>\n",
       "    <tr>\n",
       "      <th>19</th>\n",
       "      <td>0</td>\n",
       "      <td>0.162645</td>\n",
       "      <td>0.20</td>\n",
       "    </tr>\n",
       "    <tr>\n",
       "      <th>20</th>\n",
       "      <td>0</td>\n",
       "      <td>0.166376</td>\n",
       "      <td>0.21</td>\n",
       "    </tr>\n",
       "    <tr>\n",
       "      <th>21</th>\n",
       "      <td>0</td>\n",
       "      <td>0.170089</td>\n",
       "      <td>0.22</td>\n",
       "    </tr>\n",
       "    <tr>\n",
       "      <th>22</th>\n",
       "      <td>0</td>\n",
       "      <td>0.173781</td>\n",
       "      <td>0.23</td>\n",
       "    </tr>\n",
       "    <tr>\n",
       "      <th>23</th>\n",
       "      <td>0</td>\n",
       "      <td>0.177453</td>\n",
       "      <td>0.24</td>\n",
       "    </tr>\n",
       "    <tr>\n",
       "      <th>24</th>\n",
       "      <td>0</td>\n",
       "      <td>0.181104</td>\n",
       "      <td>0.25</td>\n",
       "    </tr>\n",
       "    <tr>\n",
       "      <th>25</th>\n",
       "      <td>0</td>\n",
       "      <td>0.184733</td>\n",
       "      <td>0.26</td>\n",
       "    </tr>\n",
       "    <tr>\n",
       "      <th>26</th>\n",
       "      <td>0</td>\n",
       "      <td>0.188338</td>\n",
       "      <td>0.27</td>\n",
       "    </tr>\n",
       "    <tr>\n",
       "      <th>27</th>\n",
       "      <td>0</td>\n",
       "      <td>0.191919</td>\n",
       "      <td>0.28</td>\n",
       "    </tr>\n",
       "    <tr>\n",
       "      <th>28</th>\n",
       "      <td>0</td>\n",
       "      <td>0.195477</td>\n",
       "      <td>0.29</td>\n",
       "    </tr>\n",
       "    <tr>\n",
       "      <th>29</th>\n",
       "      <td>0</td>\n",
       "      <td>0.199009</td>\n",
       "      <td>0.30</td>\n",
       "    </tr>\n",
       "    <tr>\n",
       "      <th>...</th>\n",
       "      <td>...</td>\n",
       "      <td>...</td>\n",
       "      <td>...</td>\n",
       "    </tr>\n",
       "    <tr>\n",
       "      <th>69</th>\n",
       "      <td>0</td>\n",
       "      <td>0.315592</td>\n",
       "      <td>0.70</td>\n",
       "    </tr>\n",
       "    <tr>\n",
       "      <th>70</th>\n",
       "      <td>0</td>\n",
       "      <td>0.317847</td>\n",
       "      <td>0.71</td>\n",
       "    </tr>\n",
       "    <tr>\n",
       "      <th>71</th>\n",
       "      <td>0</td>\n",
       "      <td>0.320071</td>\n",
       "      <td>0.72</td>\n",
       "    </tr>\n",
       "    <tr>\n",
       "      <th>72</th>\n",
       "      <td>0</td>\n",
       "      <td>0.322262</td>\n",
       "      <td>0.73</td>\n",
       "    </tr>\n",
       "    <tr>\n",
       "      <th>73</th>\n",
       "      <td>0</td>\n",
       "      <td>0.324423</td>\n",
       "      <td>0.74</td>\n",
       "    </tr>\n",
       "    <tr>\n",
       "      <th>74</th>\n",
       "      <td>0</td>\n",
       "      <td>0.326552</td>\n",
       "      <td>0.75</td>\n",
       "    </tr>\n",
       "    <tr>\n",
       "      <th>75</th>\n",
       "      <td>0</td>\n",
       "      <td>0.328649</td>\n",
       "      <td>0.76</td>\n",
       "    </tr>\n",
       "    <tr>\n",
       "      <th>76</th>\n",
       "      <td>0</td>\n",
       "      <td>0.330716</td>\n",
       "      <td>0.77</td>\n",
       "    </tr>\n",
       "    <tr>\n",
       "      <th>77</th>\n",
       "      <td>0</td>\n",
       "      <td>0.332752</td>\n",
       "      <td>0.78</td>\n",
       "    </tr>\n",
       "    <tr>\n",
       "      <th>78</th>\n",
       "      <td>0</td>\n",
       "      <td>0.334758</td>\n",
       "      <td>0.79</td>\n",
       "    </tr>\n",
       "    <tr>\n",
       "      <th>79</th>\n",
       "      <td>0</td>\n",
       "      <td>0.336733</td>\n",
       "      <td>0.80</td>\n",
       "    </tr>\n",
       "    <tr>\n",
       "      <th>80</th>\n",
       "      <td>0</td>\n",
       "      <td>0.338678</td>\n",
       "      <td>0.81</td>\n",
       "    </tr>\n",
       "    <tr>\n",
       "      <th>81</th>\n",
       "      <td>0</td>\n",
       "      <td>0.340594</td>\n",
       "      <td>0.82</td>\n",
       "    </tr>\n",
       "    <tr>\n",
       "      <th>82</th>\n",
       "      <td>0</td>\n",
       "      <td>0.342480</td>\n",
       "      <td>0.83</td>\n",
       "    </tr>\n",
       "    <tr>\n",
       "      <th>83</th>\n",
       "      <td>0</td>\n",
       "      <td>0.344336</td>\n",
       "      <td>0.84</td>\n",
       "    </tr>\n",
       "    <tr>\n",
       "      <th>84</th>\n",
       "      <td>0</td>\n",
       "      <td>0.346163</td>\n",
       "      <td>0.85</td>\n",
       "    </tr>\n",
       "    <tr>\n",
       "      <th>85</th>\n",
       "      <td>0</td>\n",
       "      <td>0.347962</td>\n",
       "      <td>0.86</td>\n",
       "    </tr>\n",
       "    <tr>\n",
       "      <th>86</th>\n",
       "      <td>0</td>\n",
       "      <td>0.349732</td>\n",
       "      <td>0.87</td>\n",
       "    </tr>\n",
       "    <tr>\n",
       "      <th>87</th>\n",
       "      <td>0</td>\n",
       "      <td>0.351474</td>\n",
       "      <td>0.88</td>\n",
       "    </tr>\n",
       "    <tr>\n",
       "      <th>88</th>\n",
       "      <td>0</td>\n",
       "      <td>0.353187</td>\n",
       "      <td>0.89</td>\n",
       "    </tr>\n",
       "    <tr>\n",
       "      <th>89</th>\n",
       "      <td>0</td>\n",
       "      <td>0.354874</td>\n",
       "      <td>0.90</td>\n",
       "    </tr>\n",
       "    <tr>\n",
       "      <th>90</th>\n",
       "      <td>0</td>\n",
       "      <td>0.356532</td>\n",
       "      <td>0.91</td>\n",
       "    </tr>\n",
       "    <tr>\n",
       "      <th>91</th>\n",
       "      <td>0</td>\n",
       "      <td>0.358164</td>\n",
       "      <td>0.92</td>\n",
       "    </tr>\n",
       "    <tr>\n",
       "      <th>92</th>\n",
       "      <td>0</td>\n",
       "      <td>0.359769</td>\n",
       "      <td>0.93</td>\n",
       "    </tr>\n",
       "    <tr>\n",
       "      <th>93</th>\n",
       "      <td>0</td>\n",
       "      <td>0.361347</td>\n",
       "      <td>0.94</td>\n",
       "    </tr>\n",
       "    <tr>\n",
       "      <th>94</th>\n",
       "      <td>0</td>\n",
       "      <td>0.362900</td>\n",
       "      <td>0.95</td>\n",
       "    </tr>\n",
       "    <tr>\n",
       "      <th>95</th>\n",
       "      <td>0</td>\n",
       "      <td>0.364426</td>\n",
       "      <td>0.96</td>\n",
       "    </tr>\n",
       "    <tr>\n",
       "      <th>96</th>\n",
       "      <td>0</td>\n",
       "      <td>0.365927</td>\n",
       "      <td>0.97</td>\n",
       "    </tr>\n",
       "    <tr>\n",
       "      <th>97</th>\n",
       "      <td>0</td>\n",
       "      <td>0.367403</td>\n",
       "      <td>0.98</td>\n",
       "    </tr>\n",
       "    <tr>\n",
       "      <th>98</th>\n",
       "      <td>0</td>\n",
       "      <td>0.368854</td>\n",
       "      <td>0.99</td>\n",
       "    </tr>\n",
       "  </tbody>\n",
       "</table>\n",
       "<p>99 rows × 3 columns</p>\n",
       "</div>"
      ],
      "text/plain": [
       "    JSD       MMD  translation\n",
       "0     7  0.090389         0.01\n",
       "1     6  0.094106         0.02\n",
       "2     5  0.097857         0.03\n",
       "3     4  0.101634         0.04\n",
       "4     3  0.105433         0.05\n",
       "5     3  0.109248         0.06\n",
       "6     2  0.113075         0.07\n",
       "7     2  0.116910         0.08\n",
       "8     0  0.120751         0.09\n",
       "9     0  0.124594         0.10\n",
       "10    0  0.128436         0.11\n",
       "11    0  0.132275         0.12\n",
       "12    0  0.136108         0.13\n",
       "13    0  0.139935         0.14\n",
       "14    0  0.143752         0.15\n",
       "15    0  0.147558         0.16\n",
       "16    0  0.151352         0.17\n",
       "17    0  0.155132         0.18\n",
       "18    0  0.158897         0.19\n",
       "19    0  0.162645         0.20\n",
       "20    0  0.166376         0.21\n",
       "21    0  0.170089         0.22\n",
       "22    0  0.173781         0.23\n",
       "23    0  0.177453         0.24\n",
       "24    0  0.181104         0.25\n",
       "25    0  0.184733         0.26\n",
       "26    0  0.188338         0.27\n",
       "27    0  0.191919         0.28\n",
       "28    0  0.195477         0.29\n",
       "29    0  0.199009         0.30\n",
       "..  ...       ...          ...\n",
       "69    0  0.315592         0.70\n",
       "70    0  0.317847         0.71\n",
       "71    0  0.320071         0.72\n",
       "72    0  0.322262         0.73\n",
       "73    0  0.324423         0.74\n",
       "74    0  0.326552         0.75\n",
       "75    0  0.328649         0.76\n",
       "76    0  0.330716         0.77\n",
       "77    0  0.332752         0.78\n",
       "78    0  0.334758         0.79\n",
       "79    0  0.336733         0.80\n",
       "80    0  0.338678         0.81\n",
       "81    0  0.340594         0.82\n",
       "82    0  0.342480         0.83\n",
       "83    0  0.344336         0.84\n",
       "84    0  0.346163         0.85\n",
       "85    0  0.347962         0.86\n",
       "86    0  0.349732         0.87\n",
       "87    0  0.351474         0.88\n",
       "88    0  0.353187         0.89\n",
       "89    0  0.354874         0.90\n",
       "90    0  0.356532         0.91\n",
       "91    0  0.358164         0.92\n",
       "92    0  0.359769         0.93\n",
       "93    0  0.361347         0.94\n",
       "94    0  0.362900         0.95\n",
       "95    0  0.364426         0.96\n",
       "96    0  0.365927         0.97\n",
       "97    0  0.367403         0.98\n",
       "98    0  0.368854         0.99\n",
       "\n",
       "[99 rows x 3 columns]"
      ]
     },
     "execution_count": 40,
     "metadata": {},
     "output_type": "execute_result"
    }
   ],
   "source": [
    "df"
   ]
  },
  {
   "cell_type": "code",
   "execution_count": 43,
   "metadata": {},
   "outputs": [
    {
     "data": {
      "image/png": "[encoded data removed]",
      "text/plain": [
       "<Figure size 432x288 with 1 Axes>"
      ]
     },
     "metadata": {
      "needs_background": "light"
     },
     "output_type": "display_data"
    }
   ],
   "source": [
    "plt.plot(df['translation'],l_j,label ='JSD test stat')\n",
    "plt.legend()\n",
    "plt.xlabel('Translation')\n",
    "plt.show()"
   ]
  },
  {
   "cell_type": "code",
   "execution_count": 44,
   "metadata": {},
   "outputs": [
    {
     "data": {
      "image/png": "[encoded data removed]",
      "text/plain": [
       "<Figure size 432x288 with 1 Axes>"
      ]
     },
     "metadata": {
      "needs_background": "light"
     },
     "output_type": "display_data"
    }
   ],
   "source": [
    "plt.plot(df['translation'],l_m,label ='MMD test stat')\n",
    "plt.legend()\n",
    "plt.xlabel('Translation')\n",
    "plt.show()"
   ]
  },
  {
   "cell_type": "code",
   "execution_count": null,
   "metadata": {},
   "outputs": [],
   "source": []
  }
 ],
 "metadata": {
  "kernelspec": {
   "display_name": "Python 3",
   "language": "python",
   "name": "python3"
  },
  "language_info": {
   "codemirror_mode": {
    "name": "ipython",
    "version": 3
   },
   "file_extension": ".py",
   "mimetype": "text/x-python",
   "name": "python",
   "nbconvert_exporter": "python",
   "pygments_lexer": "ipython3",
   "version": "3.7.3"
  }
 },
 "nbformat": 4,
 "nbformat_minor": 2
}
