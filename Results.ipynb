{
 "cells": [
  {
   "cell_type": "code",
   "execution_count": 1,
   "metadata": {},
   "outputs": [],
   "source": [
    "import pandas as pd\n",
    "import numpy as np\n",
    "import matplotlib.pyplot as plt\n",
    "from scipy.spatial.distance import pdist, squareform\n",
    "\n",
    "from kernel import *\n",
    "from MMD import *"
   ]
  },
  {
   "cell_type": "markdown",
   "metadata": {},
   "source": [
    "# Question 2 : Data generation"
   ]
  },
  {
   "cell_type": "code",
   "execution_count": 9,
   "metadata": {},
   "outputs": [
    {
     "data": {
      "image/png": "[encoded data removed]",
      "text/plain": [
       "<Figure size 432x288 with 1 Axes>"
      ]
     },
     "metadata": {
      "needs_background": "light"
     },
     "output_type": "display_data"
    }
   ],
   "source": [
    "def gaussian_mix(d,N,t,n,s=1, seed=1):\n",
    "    np.random.seed(seed)\n",
    "    cov = np.identity(d)\n",
    "    mean = np.zeros(d)\n",
    "    n_tot = N*n\n",
    "    res = np.zeros((d,n_tot))\n",
    "    for i in range(N):\n",
    "        gaus = np.random.multivariate_normal(mean + t*i, cov*(s**i),n).T\n",
    "        for j in range(d):\n",
    "            res[j][i*n:(i+1)*n] = gaus[j]\n",
    "            \n",
    "    return(res)  \n",
    "\n",
    "g1 = gaussian_mix(d=2,N=3,t=1,n=500, seed=1) \n",
    "g2 = gaussian_mix(d=2,N=3,t=12,n=500, seed=1) \n",
    "\n",
    "plt.scatter(g1[0], g1[1], label=\"g1\")\n",
    "plt.scatter(g2[0], g2[1], label=\"g2\")\n",
    "plt.legend()\n",
    "plt.show()"
   ]
  },
  {
   "cell_type": "markdown",
   "metadata": {},
   "source": [
    "# Question 3 : MMD and type I error"
   ]
  },
  {
   "cell_type": "markdown",
   "metadata": {},
   "source": [
    "The MMD test is now implemented.\n",
    "\n",
    "#### TODO : Propose a strategy to check whether MMD is a test of level α. Then, present experiments on the gaussian data. Discuss the results."
   ]
  },
  {
   "cell_type": "code",
   "execution_count": 4,
   "metadata": {},
   "outputs": [
    {
     "name": "stdout",
     "output_type": "stream",
     "text": [
      "MMD test of level alpha=0.05, biased=True estimator\n",
      "Kernel: Gaussian Kernel with sigma=1\n",
      "Result: H0 rejected, test statistic=0.448491693291057 > threshold=0.1258939141153885\n",
      "CPU times: user 177 ms, sys: 48.1 ms, total: 225 ms\n",
      "Wall time: 199 ms\n"
     ]
    }
   ],
   "source": [
    "%%time\n",
    "kernel_class = GaussianKernel()\n",
    "test = MMD_test(kernel_class=kernel_class, alpha=0.05, biased=True)\n",
    "\n",
    "test.fit(X=g1, Y=g2, verbose=True)\n",
    "test.get_results()"
   ]
  },
  {
   "cell_type": "markdown",
   "metadata": {},
   "source": [
    "#### Verification with old implementation"
   ]
  },
  {
   "cell_type": "code",
   "execution_count": 7,
   "metadata": {},
   "outputs": [],
   "source": [
    "from itertools import product   \n",
    "\n",
    "def gauss_kernel(x,y,s=1):\n",
    "    k = np.exp(-sum((x-y)**2)/(2*(s**2)))\n",
    "    return k\n",
    "\n",
    "def threshold(n,alpha=0.05):  # gauss kernel <=1, K = 1\n",
    "    t = np.sqrt(2/n)*(1+np.sqrt(2*np.log(1/alpha)))  #need n=m\n",
    "    return(t)\n",
    "\n",
    "def MMD2(g1,g2): # moins long ?\n",
    "    n = len(g1[0])\n",
    "    m = len(g2[0])\n",
    "    \n",
    "    mmd1 = [gauss_kernel(g1.T[i],g1.T[j])/n**2 for i,j in product(range(n),range(n))]\n",
    "    mmd2 = [gauss_kernel(g2.T[i],g2.T[j])/m**2 for i,j in product(range(m),range(m))]\n",
    "    mmd3 = [-2*gauss_kernel(g1.T[i],g2.T[j])/(m*n) for i,j in product(range(n),range(m))]\n",
    "    \n",
    "    MMD = np.sqrt(sum(mmd1) + sum(mmd2) + sum(mmd3))\n",
    "    \n",
    "    return(MMD) \n",
    "\n",
    "    \n",
    "def TST_MMD(g1,g2,alpha=0.05):\n",
    "    if len(g1) != len(g2):\n",
    "        print('data must have the same dimension')\n",
    "        mmd = 0\n",
    "        t=0\n",
    "\n",
    "    if len(g1[0]) != len(g1[0]):\n",
    "        print('data must have the same number of points')\n",
    "        mmd = 0\n",
    "        t = 0\n",
    "\n",
    "    if len(g1) == len(g2) and len(g1[0]) == len(g1[0]) :\n",
    "        mmd = MMD2(g1,g2)\n",
    "        t = threshold(len(g1[0]), alpha)\n",
    "        if mmd <= t:\n",
    "            print('H0 accepted at level',alpha)\n",
    "        else:\n",
    "            print('H0 rejected at level',alpha)\n",
    "    \n",
    "    return mmd, t"
   ]
  },
  {
   "cell_type": "code",
   "execution_count": 8,
   "metadata": {},
   "outputs": [
    {
     "name": "stdout",
     "output_type": "stream",
     "text": [
      "H0 rejected at level 0.05\n",
      "CPU times: user 58.7 s, sys: 826 ms, total: 59.6 s\n",
      "Wall time: 1min 2s\n"
     ]
    },
    {
     "data": {
      "text/plain": [
       "(0.44849169329103433, 0.1258939141153885)"
      ]
     },
     "execution_count": 8,
     "metadata": {},
     "output_type": "execute_result"
    }
   ],
   "source": [
    "%%time\n",
    "TST_MMD(g1,g2)"
   ]
  }
 ],
 "metadata": {
  "kernelspec": {
   "display_name": "Python 3",
   "language": "python",
   "name": "python3"
  },
  "language_info": {
   "codemirror_mode": {
    "name": "ipython",
    "version": 3
   },
   "file_extension": ".py",
   "mimetype": "text/x-python",
   "name": "python",
   "nbconvert_exporter": "python",
   "pygments_lexer": "ipython3",
   "version": "3.7.3"
  }
 },
 "nbformat": 4,
 "nbformat_minor": 2
}
