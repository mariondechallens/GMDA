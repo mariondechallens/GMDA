{
 "cells": [
  {
   "cell_type": "code",
   "execution_count": 1,
   "metadata": {},
   "outputs": [],
   "source": [
    "import pandas as pd\n",
    "import numpy as np\n",
    "import matplotlib.pyplot as plt\n",
    "from scipy.spatial.distance import pdist, squareform\n",
    "\n",
    "from kernel import *\n",
    "from MMD import *\n",
    "from feedback import *\n",
    "\n",
    "from tqdm import tqdm_notebook\n",
    "\n",
    "%load_ext autoreload\n",
    "%autoreload 2"
   ]
  },
  {
   "cell_type": "markdown",
   "metadata": {},
   "source": [
    "# Question 2 : Data generation"
   ]
  },
  {
   "cell_type": "code",
   "execution_count": 2,
   "metadata": {},
   "outputs": [
    {
     "data": {
      "image/png": "[encoded data removed]",
      "text/plain": [
       "<Figure size 432x288 with 1 Axes>"
      ]
     },
     "metadata": {
      "needs_background": "light"
     },
     "output_type": "display_data"
    }
   ],
   "source": [
    "def gaussian_mix(d,N,t,n,s=1, seed=1):\n",
    "    np.random.seed(seed)\n",
    "    cov = np.identity(d)\n",
    "    mean = np.zeros(d)\n",
    "    n_tot = N*n\n",
    "    res = np.zeros((d,n_tot))\n",
    "    for i in range(N):\n",
    "        gaus = np.random.multivariate_normal(mean + t*i, cov*(s**i),n).T\n",
    "        for j in range(d):\n",
    "            res[j][i*n:(i+1)*n] = gaus[j]\n",
    "            \n",
    "    return(res)  \n",
    "\n",
    "g1 = gaussian_mix(d=2,N=3,t=1,n=500, seed=1) \n",
    "g2 = gaussian_mix(d=2,N=3,t=12,n=500, seed=1) \n",
    "\n",
    "plt.scatter(g1[0], g1[1], label=\"g1\")\n",
    "plt.scatter(g2[0], g2[1], label=\"g2\")\n",
    "plt.legend()\n",
    "plt.show()"
   ]
  },
  {
   "cell_type": "markdown",
   "metadata": {},
   "source": [
    "# Question 3 : MMD and type I error"
   ]
  },
  {
   "cell_type": "markdown",
   "metadata": {},
   "source": [
    "The MMD test is now implemented.\n",
    "\n",
    "#### TODO : Propose a strategy to check whether MMD is a test of level α. Then, present experiments on the gaussian data. Discuss the results.\n",
    "\n",
    "The level alpha of a test is an upper bound of the probability of type I error (rejecting H0 while it is true).\n",
    "A TST of level alpha using MMD as test statistic has the acceptance region  : MMD <= sqrt(2K/m) (1 + sqrt(2log(1/alpha))).\n",
    "We have to check if the probability of rejecting H0 while it is true (type I error) with the MMD TST is upper-bounded by alpha."
   ]
  },
  {
   "cell_type": "markdown",
   "metadata": {},
   "source": [
    "Update 20190426:\n",
    "\n",
    "We should be careful about what the parameter alpha is.\n",
    "\n",
    "By looking at the shape of the decision region : the threshold of level alpha is stricly decreasing with respect to alpha, and as the acceptance region is defined as \"accept H0\" if the test statistic is below alpha, alpha should be large ie 95% and not 5%. We should then verify that the probability of rejecting H0 while it is true is less than 1 - alpha = 0.05.\n",
    "\n",
    "Experiments are conducted with MMD_b and MMD_u in the following section.\n",
    "\n",
    "+ What can be seen is that for MMD_b, parameter alpha = 0.05 produces no error under H0 but alpha = 0.95 does some and alpha = 0.99 even more. Although we still have that the probability of rejecting H0 under H0=0.0091 <= 1-alpha=0.01 hence the test is verified."
   ]
  },
  {
   "cell_type": "code",
   "execution_count": 3,
   "metadata": {},
   "outputs": [
    {
     "data": {
      "image/png": "[encoded data removed]",
      "text/plain": [
       "<Figure size 432x288 with 1 Axes>"
      ]
     },
     "metadata": {
      "needs_background": "light"
     },
     "output_type": "display_data"
    }
   ],
   "source": [
    "x = np.linspace(0.0001, 1)\n",
    "y = np.sqrt(np.log(1 / x))\n",
    "plt.plot(x, y)\n",
    "plt.title(\"Shape of sqrt(log(1 / alpha))\")\n",
    "plt.xlabel('alpha')\n",
    "plt.show()"
   ]
  },
  {
   "cell_type": "code",
   "execution_count": 4,
   "metadata": {},
   "outputs": [
    {
     "name": "stdout",
     "output_type": "stream",
     "text": [
      "MMD test of level alpha=0.05, biased=True estimator\n",
      "Kernel: Gaussian Kernel with sigma=1\n",
      "Result: H0 rejected, test statistic=0.448491693291057 > threshold=0.1258939141153885\n",
      "Wall time: 484 ms\n"
     ]
    }
   ],
   "source": [
    "%%time\n",
    "kernel_class = GaussianKernel()\n",
    "test = MMD_test(kernel_class=kernel_class, alpha=0.05, biased=True)\n",
    "\n",
    "test.fit(X=g1, Y=g2, verbose=True)\n",
    "test.get_results()"
   ]
  },
  {
   "cell_type": "markdown",
   "metadata": {},
   "source": [
    "### Results using $MMD_b$"
   ]
  },
  {
   "cell_type": "code",
   "execution_count": 5,
   "metadata": {},
   "outputs": [
    {
     "data": {
      "application/vnd.jupyter.widget-view+json": {
       "model_id": "dc42a72d3d104049b92fa0a1360ebda2",
       "version_major": 2,
       "version_minor": 0
      },
      "text/plain": [
       "HBox(children=(IntProgress(value=0, max=10000), HTML(value='')))"
      ]
     },
     "metadata": {},
     "output_type": "display_data"
    },
    {
     "name": "stdout",
     "output_type": "stream",
     "text": [
      "\n",
      "proba of rejecting H0 under H0=0.0 <= alpha=0.05 ? True\n"
     ]
    }
   ],
   "source": [
    "############ PARAMETERS ############\n",
    "N = 10000\n",
    "alpha = 0.05\n",
    "biased = True\n",
    "####################################\n",
    "\n",
    "res = []\n",
    "kernel_class = GaussianKernel()\n",
    "g1 = gaussian_mix(d=2,N=3,t=1,n=50, seed=0) \n",
    "\n",
    "for i in tqdm_notebook(range(1, N+1)):\n",
    "    g2 = gaussian_mix(d=2,N=3,t=1,n=50, seed=i)  # should be identical to g1 except for random seed\n",
    "        \n",
    "    test = MMD_test(kernel_class=kernel_class, alpha=alpha, biased=biased)\n",
    "\n",
    "    test.fit(X=g1, Y=g2, verbose=False)\n",
    "    res.append(test.test_result)\n",
    "\n",
    "err = [x for x in res if x == 'rejected']\n",
    "p = len(err)/N\n",
    "print(f\"proba of rejecting H0 under H0={p} <= alpha={alpha} ? {p <= alpha}\")"
   ]
  },
  {
   "cell_type": "code",
   "execution_count": 6,
   "metadata": {},
   "outputs": [
    {
     "data": {
      "application/vnd.jupyter.widget-view+json": {
       "model_id": "8a06f4ada3574718966c71ccbe5d2bcf",
       "version_major": 2,
       "version_minor": 0
      },
      "text/plain": [
       "HBox(children=(IntProgress(value=0, max=10000), HTML(value='')))"
      ]
     },
     "metadata": {},
     "output_type": "display_data"
    },
    {
     "name": "stdout",
     "output_type": "stream",
     "text": [
      "\n",
      "proba of rejecting H0 under H0=0.0002 <= 1-alpha=0.050000000000000044 ? True\n"
     ]
    }
   ],
   "source": [
    "############ PARAMETERS ############\n",
    "N = 10000\n",
    "alpha = 0.95\n",
    "biased = True\n",
    "####################################\n",
    "\n",
    "res = []\n",
    "kernel_class = GaussianKernel()\n",
    "g1 = gaussian_mix(d=2,N=3,t=1,n=50, seed=0) \n",
    "\n",
    "for i in tqdm_notebook(range(1, N+1)):\n",
    "    g2 = gaussian_mix(d=2,N=3,t=1,n=50, seed=i)  # should be identical to g1 except for random seed\n",
    "        \n",
    "    test = MMD_test(kernel_class=kernel_class, alpha=alpha, biased=biased)\n",
    "\n",
    "    test.fit(X=g1, Y=g2, verbose=False)\n",
    "    res.append(test.test_result)\n",
    "\n",
    "err = [x for x in res if x == 'rejected']\n",
    "p = len(err)/N\n",
    "print(f\"proba of rejecting H0 under H0={p} <= 1-alpha={1-alpha} ? {p <= 1-alpha}\")"
   ]
  },
  {
   "cell_type": "code",
   "execution_count": 7,
   "metadata": {},
   "outputs": [
    {
     "data": {
      "application/vnd.jupyter.widget-view+json": {
       "model_id": "41e0f09351784d9e81caadca21381906",
       "version_major": 2,
       "version_minor": 0
      },
      "text/plain": [
       "HBox(children=(IntProgress(value=0, max=10000), HTML(value='')))"
      ]
     },
     "metadata": {},
     "output_type": "display_data"
    },
    {
     "name": "stdout",
     "output_type": "stream",
     "text": [
      "\n",
      "proba of rejecting H0 under H0=0.0091 <= 1-alpha=0.010000000000000009 ? True\n"
     ]
    }
   ],
   "source": [
    "############ PARAMETERS ############\n",
    "N = 10000\n",
    "alpha = 0.99\n",
    "biased = True\n",
    "####################################\n",
    "\n",
    "res = []\n",
    "kernel_class = GaussianKernel()\n",
    "g1 = gaussian_mix(d=2,N=3,t=1,n=50, seed=0) \n",
    "\n",
    "for i in tqdm_notebook(range(1, N+1)):\n",
    "    g2 = gaussian_mix(d=2,N=3,t=1,n=50, seed=i)  # should be identical to g1 except for random seed\n",
    "        \n",
    "    test = MMD_test(kernel_class=kernel_class, alpha=alpha, biased=biased)\n",
    "\n",
    "    test.fit(X=g1, Y=g2, verbose=False)\n",
    "    res.append(test.test_result)\n",
    "\n",
    "err = [x for x in res if x == 'rejected']\n",
    "p = len(err)/N\n",
    "print(f\"proba of rejecting H0 under H0={p} <= 1-alpha={1-alpha} ? {p <= 1-alpha}\")"
   ]
  },
  {
   "cell_type": "markdown",
   "metadata": {},
   "source": [
    "### Results using $MMD_u$"
   ]
  },
  {
   "cell_type": "code",
   "execution_count": 8,
   "metadata": {},
   "outputs": [
    {
     "data": {
      "application/vnd.jupyter.widget-view+json": {
       "model_id": "9fef9836117645328c7c5b8035aa2f6e",
       "version_major": 2,
       "version_minor": 0
      },
      "text/plain": [
       "HBox(children=(IntProgress(value=0, max=10000), HTML(value='')))"
      ]
     },
     "metadata": {},
     "output_type": "display_data"
    },
    {
     "name": "stdout",
     "output_type": "stream",
     "text": [
      "\n",
      "proba of rejecting H0 under H0=0.0 <= 1-alpha=0.95 ? True\n"
     ]
    }
   ],
   "source": [
    "############ PARAMETERS ############\n",
    "N = 10000\n",
    "alpha = 0.05\n",
    "biased = False\n",
    "####################################\n",
    "\n",
    "res = []\n",
    "kernel_class = GaussianKernel()\n",
    "g1 = gaussian_mix(d=2,N=3,t=1,n=50, seed=0) \n",
    "\n",
    "for i in tqdm_notebook(range(1, N+1)):\n",
    "    g2 = gaussian_mix(d=2,N=3,t=1,n=50, seed=i)  # should be identical to g1 except for random seed\n",
    "        \n",
    "    test = MMD_test(kernel_class=kernel_class, alpha=alpha, biased=biased)\n",
    "\n",
    "    test.fit(X=g1, Y=g2, verbose=False)\n",
    "    res.append(test.test_result)\n",
    "\n",
    "err = [x for x in res if x == 'rejected']\n",
    "p = len(err)/N\n",
    "print(f\"proba of rejecting H0 under H0={p} <= 1-alpha={1-alpha} ? {p <= 1-alpha}\")"
   ]
  },
  {
   "cell_type": "code",
   "execution_count": 9,
   "metadata": {},
   "outputs": [
    {
     "data": {
      "application/vnd.jupyter.widget-view+json": {
       "model_id": "754a619777a84d179558c1fd0a0cb479",
       "version_major": 2,
       "version_minor": 0
      },
      "text/plain": [
       "HBox(children=(IntProgress(value=0, max=10000), HTML(value='')))"
      ]
     },
     "metadata": {},
     "output_type": "display_data"
    },
    {
     "name": "stdout",
     "output_type": "stream",
     "text": [
      "\n",
      "proba of rejecting H0 under H0=0.0 <= 1-alpha=0.050000000000000044 ? True\n"
     ]
    }
   ],
   "source": [
    "############ PARAMETERS ############\n",
    "N = 10000\n",
    "alpha = 0.95\n",
    "biased = False\n",
    "####################################\n",
    "\n",
    "res = []\n",
    "kernel_class = GaussianKernel()\n",
    "g1 = gaussian_mix(d=2,N=3,t=1,n=50, seed=0) \n",
    "\n",
    "for i in tqdm_notebook(range(1, N+1)):\n",
    "    g2 = gaussian_mix(d=2,N=3,t=1,n=50, seed=i)  # should be identical to g1 except for random seed\n",
    "        \n",
    "    test = MMD_test(kernel_class=kernel_class, alpha=alpha, biased=biased)\n",
    "\n",
    "    test.fit(X=g1, Y=g2, verbose=False)\n",
    "    res.append(test.test_result)\n",
    "\n",
    "err = [x for x in res if x == 'rejected']\n",
    "p = len(err)/N\n",
    "print(f\"proba of rejecting H0 under H0={p} <= 1-alpha={1-alpha} ? {p <= 1-alpha}\")"
   ]
  },
  {
   "cell_type": "code",
   "execution_count": 10,
   "metadata": {},
   "outputs": [
    {
     "data": {
      "application/vnd.jupyter.widget-view+json": {
       "model_id": "cdb13418f3034d018c09946e8c365821",
       "version_major": 2,
       "version_minor": 0
      },
      "text/plain": [
       "HBox(children=(IntProgress(value=0, max=10000), HTML(value='')))"
      ]
     },
     "metadata": {},
     "output_type": "display_data"
    },
    {
     "name": "stdout",
     "output_type": "stream",
     "text": [
      "\n",
      "proba of rejecting H0 under H0=0.0082 <= 1-alpha=0.010000000000000009 ? True\n"
     ]
    }
   ],
   "source": [
    "############ PARAMETERS ############\n",
    "N = 10000\n",
    "alpha = 0.99\n",
    "biased = False\n",
    "####################################\n",
    "\n",
    "res = []\n",
    "kernel_class = GaussianKernel()\n",
    "g1 = gaussian_mix(d=2,N=3,t=1,n=50, seed=0) \n",
    "\n",
    "for i in tqdm_notebook(range(1, N+1)):\n",
    "    g2 = gaussian_mix(d=2,N=3,t=1,n=50, seed=i)  # should be identical to g1 except for random seed\n",
    "        \n",
    "    test = MMD_test(kernel_class=kernel_class, alpha=alpha, biased=biased)\n",
    "\n",
    "    test.fit(X=g1, Y=g2, verbose=False)\n",
    "    res.append(test.test_result)\n",
    "\n",
    "err = [x for x in res if x == 'rejected']\n",
    "p = len(err)/N\n",
    "print(f\"proba of rejecting H0 under H0={p} <= 1-alpha={1-alpha} ? {p <= 1-alpha}\")"
   ]
  },
  {
   "cell_type": "markdown",
   "metadata": {},
   "source": [
    "p is the proba of rejecting H0 while it is true => upper-bounded by alpha => test of level alpha ?"
   ]
  },
  {
   "cell_type": "code",
   "execution_count": 11,
   "metadata": {},
   "outputs": [
    {
     "data": {
      "text/plain": [
       "1.0"
      ]
     },
     "execution_count": 11,
     "metadata": {},
     "output_type": "execute_result"
    }
   ],
   "source": [
    "N = 10\n",
    "res = []\n",
    "kernel_class = GaussianKernel()\n",
    "g1 = gaussian_mix(d=2,N=3,t=1,n=500, seed=0) \n",
    "\n",
    "for i in range(1, N+1):\n",
    "\n",
    "    g2 = gaussian_mix(d=2,N=3,t=1,n=500, seed=i) # should be identical to g1 except for random seed\n",
    "\n",
    "    test = MMD_test(kernel_class=kernel_class, alpha=0.05, biased=True)\n",
    "\n",
    "    test.fit(X=g1, Y=g2, verbose=False)\n",
    "    res.append(test.T-test.threshold)\n",
    "\n",
    "y = [x for x  in res if x <= 0]\n",
    "len(y)/N"
   ]
  },
  {
   "cell_type": "markdown",
   "metadata": {},
   "source": [
    "above is the proba of being in the acceptance region of level alpha when H0 is true "
   ]
  },
  {
   "cell_type": "markdown",
   "metadata": {},
   "source": [
    "par def du test, on a mis le threshold tel que le niveau soit alpha...."
   ]
  },
  {
   "cell_type": "code",
   "execution_count": 16,
   "metadata": {},
   "outputs": [
    {
     "name": "stdout",
     "output_type": "stream",
     "text": [
      "MMD test of level alpha=0.05, biased=True estimator\n",
      "Kernel: Gaussian Kernel with sigma=1\n",
      "Result: H0 accepted, test statistic=0.033965279725573436 <= threshold=0.1258939141153885\n"
     ]
    }
   ],
   "source": [
    "g1 = gaussian_mix(d=2,N=3,t=1,n=500, seed=1) \n",
    "g2 = gaussian_mix(d=2,N=3,t=1,n=500, seed=2) # should be identical to g1 except for random seed\n",
    "test = MMD_test(kernel_class=kernel_class, alpha=0.05, biased=True)\n",
    "test.fit(X=g1, Y=g2, verbose=True)\n"
   ]
  },
  {
   "cell_type": "markdown",
   "metadata": {},
   "source": [
    "#### Verification with old implementation"
   ]
  },
  {
   "cell_type": "code",
   "execution_count": 4,
   "metadata": {},
   "outputs": [],
   "source": [
    "from itertools import product   \n",
    "\n",
    "def gauss_kernel(x,y,s=1):\n",
    "    k = np.exp(-sum((x-y)**2)/(2*(s**2)))\n",
    "    return k\n",
    "\n",
    "def threshold(n,alpha=0.05):  # gauss kernel <=1, K = 1\n",
    "    t = np.sqrt(2/n)*(1+np.sqrt(2*np.log(1/alpha)))  #need n=m\n",
    "    return(t)\n",
    "\n",
    "def MMD2(g1,g2): # moins long ?\n",
    "    n = len(g1[0])\n",
    "    m = len(g2[0])\n",
    "    \n",
    "    mmd1 = [gauss_kernel(g1.T[i],g1.T[j])/n**2 for i,j in product(range(n),range(n))]\n",
    "    mmd2 = [gauss_kernel(g2.T[i],g2.T[j])/m**2 for i,j in product(range(m),range(m))]\n",
    "    mmd3 = [-2*gauss_kernel(g1.T[i],g2.T[j])/(m*n) for i,j in product(range(n),range(m))]\n",
    "    \n",
    "    MMD = np.sqrt(sum(mmd1) + sum(mmd2) + sum(mmd3))\n",
    "    \n",
    "    return(MMD) \n",
    "\n",
    "    \n",
    "def TST_MMD(g1,g2,alpha=0.05):\n",
    "    if len(g1) != len(g2):\n",
    "        print('data must have the same dimension')\n",
    "        mmd = 0\n",
    "        t=0\n",
    "\n",
    "    if len(g1[0]) != len(g1[0]):\n",
    "        print('data must have the same number of points')\n",
    "        mmd = 0\n",
    "        t = 0\n",
    "\n",
    "    if len(g1) == len(g2) and len(g1[0]) == len(g1[0]) :\n",
    "        mmd = MMD2(g1,g2)\n",
    "        t = threshold(len(g1[0]), alpha)\n",
    "        if mmd <= t:\n",
    "            print('H0 accepted at level',alpha)\n",
    "        else:\n",
    "            print('H0 rejected at level',alpha)\n",
    "    \n",
    "    return mmd, t"
   ]
  },
  {
   "cell_type": "code",
   "execution_count": 5,
   "metadata": {},
   "outputs": [
    {
     "name": "stdout",
     "output_type": "stream",
     "text": [
      "H0 rejected at level 0.05\n",
      "Wall time: 2min 7s\n"
     ]
    },
    {
     "data": {
      "text/plain": [
       "(0.44849169329103433, 0.1258939141153885)"
      ]
     },
     "execution_count": 5,
     "metadata": {},
     "output_type": "execute_result"
    }
   ],
   "source": [
    "%%time\n",
    "TST_MMD(g1,g2)"
   ]
  },
  {
   "cell_type": "markdown",
   "metadata": {},
   "source": [
    "# Question 4 : TST versus feedback under the null hypothesis.\n",
    "\n",
    "Sources : \n",
    "+ the course notes (1 Introduction to statistical hypothesis testing and two-sample tests),  \n",
    "+ B. Phipson and G.K. Smyth \"Permutation p-values should never be zero: calculating exact p- values when permutations are randomly drawn.\", Statistical Applications in Genetics and Molecular Biology, 9(1), 2010, and the SBL library\n",
    "\n",
    "Course notes eq 1.19 defines $b$ as the test statistic : it is the number of random datasets yielding a test statistic larger than that obtained\n",
    "on the observed dataset. Section 1.6.4 with eq 1.25 defines the p_value as $\\hat{p} = \\frac{b+1}{I + 1}$ (NB : `I` is `m` in the code following the notations from Phipson & Al.) in the case of a permutation test with no replacement.\n",
    "\n",
    "The JSD of each dataset will be taken as the average JSD of each point.\n",
    "\n",
    "The algorithm is as follows : \n",
    "1. Compute JSD using original labels\n",
    "2. Until `n_permutations` different permutations is done:\n",
    "    + Compute a new permutation over labels\n",
    "    + Check if it is a new permutation\n",
    "    + if yes : estimate JSD\n",
    "3. $b = \\sum_{permutation} \\mathbb{1}_{JSD_{permutation} > JSD_{obs}}$\n",
    "4. $p = \\frac{b+1}{n_{permutations} + 1}$\n",
    "5. Test result : accept if $p > \\alpha$ else reject\n",
    "\n",
    "We follow `sbl-ddbc-step-1-discrepancy.py` for computing local JSD but the subsample module in `random_device` is not used : permutation is rewritten."
   ]
  },
  {
   "cell_type": "markdown",
   "metadata": {},
   "source": [
    "Under $H_0$ : test should be accepted"
   ]
  },
  {
   "cell_type": "code",
   "execution_count": 12,
   "metadata": {},
   "outputs": [
    {
     "data": {
      "image/png": "[encoded data removed]",
      "text/plain": [
       "<Figure size 432x288 with 1 Axes>"
      ]
     },
     "metadata": {
      "needs_background": "light"
     },
     "output_type": "display_data"
    },
    {
     "name": "stdout",
     "output_type": "stream",
     "text": [
      "Feedback test of level alpha=0.05\n",
      "Number of permutations=50\n",
      "jsd_obs=0.015571730825168521, mean jsd_permutations=0.012853614982934214\n",
      "Result: H0 accepted, test statistic=8, p_value=0.17647058823529413 >= alpha=0.05\n",
      "Wall time: 1.33 s\n"
     ]
    }
   ],
   "source": [
    "%%time\n",
    "###################### PARAMETERS ########################\n",
    "n_permutations = 50  # number of permutation tests\n",
    "g1 = gaussian_mix(d=2,N=2,t=10,n=200, s=5, seed=1) \n",
    "g2 = gaussian_mix(d=2,N=2,t=10,n=200, s=5, seed=2)  # should be identical to g1 except for random seed\n",
    "##########################################################\n",
    "plt.scatter(g1[0], g1[1], label=\"g1\")\n",
    "plt.scatter(g2[0], g2[1], label=\"g2\")\n",
    "plt.legend()\n",
    "plt.show()\n",
    "\n",
    "rd.seed(0)\n",
    "kofn_power = 0.66\n",
    "fk = DDBC_feedback(\n",
    "    g1, g2,\n",
    ")\n",
    "fk.permutation_test(n_permutations=n_permutations)\n",
    "print(fk)"
   ]
  },
  {
   "cell_type": "markdown",
   "metadata": {},
   "source": [
    "#### Producing results on several gaussian data"
   ]
  },
  {
   "cell_type": "code",
   "execution_count": 15,
   "metadata": {},
   "outputs": [],
   "source": [
    "def JSD_test(g1,g2,n=50):\n",
    "    rd.seed(0)\n",
    "    kofn_power = 0.66\n",
    "    fk = DDBC_feedback(\n",
    "        g1, g2,\n",
    "    )\n",
    "    fk.permutation_test(n_permutations=n)\n",
    "    return fk   "
   ]
  },
  {
   "cell_type": "code",
   "execution_count": 18,
   "metadata": {},
   "outputs": [],
   "source": [
    "N=100\n",
    "stat = []\n",
    "p_val = []\n",
    "for i in range(N) :\n",
    "    g1 = gaussian_mix(d=2,N=2,t=i,n=20, s=5, seed=1) \n",
    "    g2 = gaussian_mix(d=2,N=2,t=i,n=20, s=5, seed=2)  # should be identical to g1 except for random seed\n",
    "    fk = JSD_test(g1,g2)\n",
    "    stat.append(fk.b)\n",
    "    p_val.append(fk.p_value)\n"
   ]
  },
  {
   "cell_type": "code",
   "execution_count": 19,
   "metadata": {},
   "outputs": [
    {
     "data": {
      "image/png": "[encoded data removed]",
      "text/plain": [
       "<Figure size 432x288 with 1 Axes>"
      ]
     },
     "metadata": {
      "needs_background": "light"
     },
     "output_type": "display_data"
    }
   ],
   "source": [
    "plt.plot(stat,label = 'JSD test stat')\n",
    "plt.legend()\n",
    "plt.show()"
   ]
  },
  {
   "cell_type": "code",
   "execution_count": 20,
   "metadata": {},
   "outputs": [
    {
     "data": {
      "image/png": "[encoded data removed]",
      "text/plain": [
       "<Figure size 432x288 with 1 Axes>"
      ]
     },
     "metadata": {
      "needs_background": "light"
     },
     "output_type": "display_data"
    }
   ],
   "source": [
    "plt.plot(p_val, label = 'p-value')\n",
    "plt.axhline(y=0.05, color='r', linestyle='-',label = 'alpha')\n",
    "plt.legend()\n",
    "plt.show()"
   ]
  },
  {
   "cell_type": "markdown",
   "metadata": {},
   "source": [
    "P always above alpha, we accept H0 in each case for distribution with p=q"
   ]
  },
  {
   "cell_type": "markdown",
   "metadata": {},
   "source": [
    "With the same datas as question 3, we have the same result."
   ]
  },
  {
   "cell_type": "code",
   "execution_count": 21,
   "metadata": {},
   "outputs": [
    {
     "data": {
      "application/vnd.jupyter.widget-view+json": {
       "model_id": "aa2860ad42b148b591d7bf6fce893035",
       "version_major": 2,
       "version_minor": 0
      },
      "text/plain": [
       "HBox(children=(IntProgress(value=0, max=10000), HTML(value='')))"
      ]
     },
     "metadata": {},
     "output_type": "display_data"
    },
    {
     "name": "stdout",
     "output_type": "stream",
     "text": [
      "\n"
     ]
    },
    {
     "data": {
      "image/png": "[encoded data removed]",
      "text/plain": [
       "<Figure size 432x288 with 1 Axes>"
      ]
     },
     "metadata": {
      "needs_background": "light"
     },
     "output_type": "display_data"
    },
    {
     "data": {
      "image/png": "[encoded data removed]",
      "text/plain": [
       "<Figure size 432x288 with 1 Axes>"
      ]
     },
     "metadata": {
      "needs_background": "light"
     },
     "output_type": "display_data"
    }
   ],
   "source": [
    "N=10000\n",
    "stat = []\n",
    "p_val = []\n",
    "\n",
    "g1 = gaussian_mix(d=2,N=3,t=1,n=50, seed=0) \n",
    "for i in tqdm_notebook(range(1, N+1)):\n",
    "\n",
    "    g2 = gaussian_mix(d=2,N=3,t=1,n=50, seed=i)  # should be identical to g1 except for random seed\n",
    "    fk = JSD_test(g1,g2, n=15)\n",
    "    stat.append(fk.b)\n",
    "    p_val.append(fk.p_value)\n",
    "\n",
    "plt.plot(stat,label = 'JSD test stat')\n",
    "plt.legend()\n",
    "plt.show()\n",
    "\n",
    "plt.plot(p_val, label = 'p-value')\n",
    "plt.axhline(y=0.05, color='r', linestyle='-',label = 'alpha')\n",
    "plt.legend()\n",
    "plt.show()"
   ]
  },
  {
   "cell_type": "code",
   "execution_count": 22,
   "metadata": {},
   "outputs": [
    {
     "data": {
      "text/plain": [
       "1.0"
      ]
     },
     "execution_count": 22,
     "metadata": {},
     "output_type": "execute_result"
    }
   ],
   "source": [
    "np.mean(np.array(p_val) > 0.05)"
   ]
  },
  {
   "cell_type": "markdown",
   "metadata": {},
   "source": [
    "# Question 5 : TST versus feedback under the alternative"
   ]
  },
  {
   "cell_type": "markdown",
   "metadata": {},
   "source": [
    "Under $H_1$ : test should be rejected"
   ]
  },
  {
   "cell_type": "code",
   "execution_count": 23,
   "metadata": {},
   "outputs": [
    {
     "data": {
      "image/png": "[encoded data removed]",
      "text/plain": [
       "<Figure size 432x288 with 1 Axes>"
      ]
     },
     "metadata": {
      "needs_background": "light"
     },
     "output_type": "display_data"
    },
    {
     "name": "stdout",
     "output_type": "stream",
     "text": [
      "Feedback test of level alpha=0.05\n",
      "Number of permutations=50\n",
      "jsd_obs=0.45222371256371524, mean jsd_permutations=0.014271674090087958\n",
      "Result: H0 rejected, test statistic=0, p_value=0.0196078431372549 < alpha=0.05\n",
      "Wall time: 1.03 s\n"
     ]
    }
   ],
   "source": [
    "%%time\n",
    "###################### PARAMETERS ########################\n",
    "n_permutations = 50  # number of permutation tests\n",
    "g1 = gaussian_mix(d=2,N=3,t=5,n=100, s=1, seed=1) \n",
    "g2 = gaussian_mix(d=2,N=3,t=0,n=100, s=1, seed=2)  # should be different from g1\n",
    "##########################################################\n",
    "\n",
    "plt.scatter(g1[0], g1[1], label=\"g1\")\n",
    "plt.scatter(g2[0], g2[1], label=\"g2\")\n",
    "plt.legend()\n",
    "plt.show()\n",
    "\n",
    "rd.seed(0)\n",
    "kofn_power = 0.66\n",
    "fk = DDBC_feedback(\n",
    "    g1, g2,\n",
    ")\n",
    "fk.permutation_test(n_permutations=n_permutations)\n",
    "print(fk)"
   ]
  },
  {
   "cell_type": "markdown",
   "metadata": {},
   "source": [
    "### Comparison of the variation of the test statistic of MMD, and that of the JS divergence returned by the feedback"
   ]
  },
  {
   "cell_type": "code",
   "execution_count": 24,
   "metadata": {},
   "outputs": [
    {
     "data": {
      "image/png": "[encoded data removed]",
      "text/plain": [
       "<Figure size 432x288 with 1 Axes>"
      ]
     },
     "metadata": {
      "needs_background": "light"
     },
     "output_type": "display_data"
    },
    {
     "name": "stdout",
     "output_type": "stream",
     "text": [
      "JSD Test statistic\n",
      "0\n",
      "MMD Test statistic\n",
      "0.45602427920900546\n",
      "Wall time: 1.09 s\n"
     ]
    }
   ],
   "source": [
    "%%time\n",
    "###################### PARAMETERS ########################\n",
    "n_permutations = 50  # number of permutation tests\n",
    "g1 = gaussian_mix(d=2,N=3,t=5,n=100, s=1, seed=1) \n",
    "g2 = gaussian_mix(d=2,N=3,t=0,n=100, s=1, seed=2)  # should be different from g1\n",
    "##########################################################\n",
    "\n",
    "plt.scatter(g1[0], g1[1], label=\"g1\")\n",
    "plt.scatter(g2[0], g2[1], label=\"g2\")\n",
    "plt.legend()\n",
    "plt.show()\n",
    "\n",
    "rd.seed(0)\n",
    "kofn_power = 0.66\n",
    "fk = DDBC_feedback(\n",
    "    g1, g2,\n",
    ")\n",
    "fk.permutation_test(n_permutations=n_permutations)\n",
    "print('JSD Test statistic')\n",
    "print(fk.b)\n",
    "\n",
    "kernel_class = GaussianKernel()\n",
    "test = MMD_test(kernel_class=kernel_class, alpha=0.05, biased=True)\n",
    "\n",
    "test.fit(X=g1, Y=g2, verbose=False)\n",
    "print('MMD Test statistic')\n",
    "print(test.T)"
   ]
  },
  {
   "cell_type": "code",
   "execution_count": 41,
   "metadata": {},
   "outputs": [],
   "source": [
    "def compare(g1,g2,k,alpha = 0.95):\n",
    "    \n",
    "    #JSD\n",
    "    rd.seed(0)\n",
    "    kofn_power = k\n",
    "    fk = DDBC_feedback(\n",
    "        g1, g2,\n",
    "    )\n",
    "        \n",
    "    fk.permutation_test(n_permutations=n_permutations)\n",
    "\n",
    "    #MMD\n",
    "    kernel_class = GaussianKernel()\n",
    "    test = MMD_test(kernel_class=kernel_class, alpha=alpha, biased=True)\n",
    "\n",
    "    test.fit(X=g1, Y=g2, verbose=False)\n",
    "\n",
    "    return fk.b, test.T, fk.test_result, test.test_result"
   ]
  },
  {
   "cell_type": "code",
   "execution_count": 42,
   "metadata": {},
   "outputs": [],
   "source": [
    "def compare_echantillon(s,k,N_iter,pas,d=2,N_dim=3,n=50,plot_= False,verbose = False) :\n",
    "    res_j =[]\n",
    "    res_m = []\n",
    "    l_j = []\n",
    "    l_m = []\n",
    "    N = N_iter\n",
    "\n",
    "    g2 = gaussian_mix(d=d,N=N_dim,t=0,n=n, s=s, seed=2)\n",
    "    for t in range(1,N):\n",
    "        g1 = gaussian_mix(d=d,N=N_dim,t=t*pas,n=n, s=s, seed=1)\n",
    "        comparison  = compare(g1,g2,k)\n",
    "        l_j.append(comparison[0])\n",
    "        l_m.append(comparison[1])\n",
    "        res_j.append(comparison[2])\n",
    "        res_m.append(comparison[3])\n",
    "    \n",
    "    translate = np.array(range(1,N))*pas\n",
    "    \n",
    "    #type II error :  proba of accepting H0 while it is false\n",
    "    \n",
    "    err_j = [x for x in res_j if x == 'accepted']\n",
    "    proba_j= len(err_j)/N\n",
    "    \n",
    "    err_m = [x for x in res_m if x == 'accepted']\n",
    "    proba_m= len(err_m)/N\n",
    "    \n",
    "    if verbose == True :\n",
    "        print(f\"proba of accepting H0 under H1 for JSD test ={proba_j}\")\n",
    "        print(f\"proba of accepting H0 under H1 for MMD test ={proba_m}\")\n",
    "        \n",
    "    \n",
    "    if plot_ == True :\n",
    "        plt.plot(translate,l_j,label ='JSD test stat')\n",
    "        plt.legend()\n",
    "        plt.xlabel('Translation')\n",
    "        plt.show()\n",
    "    \n",
    "        plt.plot(translate,l_m,label ='MMD test stat')\n",
    "        plt.legend()\n",
    "        plt.xlabel('Translation')\n",
    "        plt.show()\n",
    "        \n",
    "    return l_j,l_m,res_j,res_m,proba_j,proba_m"
   ]
  },
  {
   "cell_type": "code",
   "execution_count": 43,
   "metadata": {},
   "outputs": [
    {
     "name": "stdout",
     "output_type": "stream",
     "text": [
      "proba of accepting H0 under H1 for JSD test =0.15\n",
      "proba of accepting H0 under H1 for MMD test =0.11\n"
     ]
    },
    {
     "data": {
      "image/png": "[encoded data removed]",
      "text/plain": [
       "<Figure size 432x288 with 1 Axes>"
      ]
     },
     "metadata": {
      "needs_background": "light"
     },
     "output_type": "display_data"
    },
    {
     "data": {
      "image/png": "[encoded data removed]",
      "text/plain": [
       "<Figure size 432x288 with 1 Axes>"
      ]
     },
     "metadata": {
      "needs_background": "light"
     },
     "output_type": "display_data"
    },
    {
     "data": {
      "text/plain": [
       "([23,\n",
       "  23,\n",
       "  23,\n",
       "  18,\n",
       "  17,\n",
       "  16,\n",
       "  16,\n",
       "  14,\n",
       "  14,\n",
       "  9,\n",
       "  9,\n",
       "  9,\n",
       "  7,\n",
       "  7,\n",
       "  4,\n",
       "  1,\n",
       "  1,\n",
       "  1,\n",
       "  1,\n",
       "  1,\n",
       "  1,\n",
       "  0,\n",
       "  0,\n",
       "  0,\n",
       "  0,\n",
       "  0,\n",
       "  0,\n",
       "  0,\n",
       "  0,\n",
       "  0,\n",
       "  0,\n",
       "  0,\n",
       "  0,\n",
       "  0,\n",
       "  0,\n",
       "  0,\n",
       "  0,\n",
       "  0,\n",
       "  0,\n",
       "  0,\n",
       "  0,\n",
       "  0,\n",
       "  0,\n",
       "  0,\n",
       "  0,\n",
       "  0,\n",
       "  0,\n",
       "  0,\n",
       "  0,\n",
       "  0,\n",
       "  0,\n",
       "  0,\n",
       "  0,\n",
       "  0,\n",
       "  0,\n",
       "  0,\n",
       "  0,\n",
       "  0,\n",
       "  0,\n",
       "  0,\n",
       "  0,\n",
       "  0,\n",
       "  0,\n",
       "  0,\n",
       "  0,\n",
       "  0,\n",
       "  0,\n",
       "  0,\n",
       "  0,\n",
       "  0,\n",
       "  0,\n",
       "  0,\n",
       "  0,\n",
       "  0,\n",
       "  0,\n",
       "  0,\n",
       "  0,\n",
       "  0,\n",
       "  0,\n",
       "  0,\n",
       "  0,\n",
       "  0,\n",
       "  0,\n",
       "  0,\n",
       "  0,\n",
       "  0,\n",
       "  0,\n",
       "  0,\n",
       "  0,\n",
       "  0,\n",
       "  0,\n",
       "  0,\n",
       "  0,\n",
       "  0,\n",
       "  0,\n",
       "  0,\n",
       "  0,\n",
       "  0,\n",
       "  0],\n",
       " [0.11707337874158305,\n",
       "  0.12031135733916189,\n",
       "  0.12361409583529748,\n",
       "  0.12697485333425154,\n",
       "  0.13038741385642788,\n",
       "  0.13384604838591502,\n",
       "  0.13734547721546847,\n",
       "  0.14088083347753677,\n",
       "  0.14444762844249373,\n",
       "  0.1480417189336978,\n",
       "  0.15165927703877824,\n",
       "  0.15529676217457752,\n",
       "  0.15895089547850016,\n",
       "  0.162618636442422,\n",
       "  0.166297161669732,\n",
       "  0.16998384561561897,\n",
       "  0.17367624316124416,\n",
       "  0.17737207387045936,\n",
       "  0.1810692077809458,\n",
       "  0.18476565258810407,\n",
       "  0.1884595420885366,\n",
       "  0.19214912575949164,\n",
       "  0.19583275936063052,\n",
       "  0.19950889645438463,\n",
       "  0.20317608075079896,\n",
       "  0.20683293919185905,\n",
       "  0.21047817569878866,\n",
       "  0.21411056551366603,\n",
       "  0.21772895007384702,\n",
       "  0.22133223236423044,\n",
       "  0.22491937269825962,\n",
       "  0.22848938488386797,\n",
       "  0.23204133273532526,\n",
       "  0.23557432689618515,\n",
       "  0.23908752194233632,\n",
       "  0.24258011373753985,\n",
       "  0.24605133701684417,\n",
       "  0.2495004631759492,\n",
       "  0.2529267982469631,\n",
       "  0.2563296810431173,\n",
       "  0.2597084814568654,\n",
       "  0.2630625988974686,\n",
       "  0.2663914608556301,\n",
       "  0.2696945215840507,\n",
       "  0.2729712608839408,\n",
       "  0.2762211829885371,\n",
       "  0.2794438155355859,\n",
       "  0.282638708621553,\n",
       "  0.28580543393103064,\n",
       "  0.2889435839354349,\n",
       "  0.2920527711556427,\n",
       "  0.29513262748370434,\n",
       "  0.2981828035591946,\n",
       "  0.30120296819614395,\n",
       "  0.3041928078568307,\n",
       "  0.30715202616899684,\n",
       "  0.3100803434833135,\n",
       "  0.3129774964681494,\n",
       "  0.31584323773888606,\n",
       "  0.31867733551920047,\n",
       "  0.3214795733318931,\n",
       "  0.3242497497169606,\n",
       "  0.3269876779747418,\n",
       "  0.3296931859320585,\n",
       "  0.3323661157293733,\n",
       "  0.3350063236270598,\n",
       "  0.3376136798289558,\n",
       "  0.3401880683214423,\n",
       "  0.3427293867263363,\n",
       "  0.3452375461659563,\n",
       "  0.34771247113876164,\n",
       "  0.35015409940401965,\n",
       "  0.3525623818740027,\n",
       "  0.35493728251226203,\n",
       "  0.357278778236574,\n",
       "  0.3595868588251999,\n",
       "  0.3618615268251491,\n",
       "  0.3641027974611837,\n",
       "  0.3663106985443536,\n",
       "  0.3684852703789013,\n",
       "  0.37062656566643226,\n",
       "  0.3727346494063038,\n",
       "  0.37480959879123743,\n",
       "  0.37685150309722837,\n",
       "  0.3788604635668851,\n",
       "  0.3808365932853919,\n",
       "  0.3827800170483663,\n",
       "  0.3846908712209376,\n",
       "  0.3865693035874528,\n",
       "  0.38841547319128616,\n",
       "  0.39022955016429883,\n",
       "  0.392011715545569,\n",
       "  0.39376216108909295,\n",
       "  0.3954810890602225,\n",
       "  0.39716871202068843,\n",
       "  0.39882525260212803,\n",
       "  0.4004509432681096,\n",
       "  0.40204602606471945,\n",
       "  0.40361075235985017],\n",
       " ['accepted',\n",
       "  'accepted',\n",
       "  'accepted',\n",
       "  'accepted',\n",
       "  'accepted',\n",
       "  'accepted',\n",
       "  'accepted',\n",
       "  'accepted',\n",
       "  'accepted',\n",
       "  'accepted',\n",
       "  'accepted',\n",
       "  'accepted',\n",
       "  'accepted',\n",
       "  'accepted',\n",
       "  'accepted',\n",
       "  'rejected',\n",
       "  'rejected',\n",
       "  'rejected',\n",
       "  'rejected',\n",
       "  'rejected',\n",
       "  'rejected',\n",
       "  'rejected',\n",
       "  'rejected',\n",
       "  'rejected',\n",
       "  'rejected',\n",
       "  'rejected',\n",
       "  'rejected',\n",
       "  'rejected',\n",
       "  'rejected',\n",
       "  'rejected',\n",
       "  'rejected',\n",
       "  'rejected',\n",
       "  'rejected',\n",
       "  'rejected',\n",
       "  'rejected',\n",
       "  'rejected',\n",
       "  'rejected',\n",
       "  'rejected',\n",
       "  'rejected',\n",
       "  'rejected',\n",
       "  'rejected',\n",
       "  'rejected',\n",
       "  'rejected',\n",
       "  'rejected',\n",
       "  'rejected',\n",
       "  'rejected',\n",
       "  'rejected',\n",
       "  'rejected',\n",
       "  'rejected',\n",
       "  'rejected',\n",
       "  'rejected',\n",
       "  'rejected',\n",
       "  'rejected',\n",
       "  'rejected',\n",
       "  'rejected',\n",
       "  'rejected',\n",
       "  'rejected',\n",
       "  'rejected',\n",
       "  'rejected',\n",
       "  'rejected',\n",
       "  'rejected',\n",
       "  'rejected',\n",
       "  'rejected',\n",
       "  'rejected',\n",
       "  'rejected',\n",
       "  'rejected',\n",
       "  'rejected',\n",
       "  'rejected',\n",
       "  'rejected',\n",
       "  'rejected',\n",
       "  'rejected',\n",
       "  'rejected',\n",
       "  'rejected',\n",
       "  'rejected',\n",
       "  'rejected',\n",
       "  'rejected',\n",
       "  'rejected',\n",
       "  'rejected',\n",
       "  'rejected',\n",
       "  'rejected',\n",
       "  'rejected',\n",
       "  'rejected',\n",
       "  'rejected',\n",
       "  'rejected',\n",
       "  'rejected',\n",
       "  'rejected',\n",
       "  'rejected',\n",
       "  'rejected',\n",
       "  'rejected',\n",
       "  'rejected',\n",
       "  'rejected',\n",
       "  'rejected',\n",
       "  'rejected',\n",
       "  'rejected',\n",
       "  'rejected',\n",
       "  'rejected',\n",
       "  'rejected',\n",
       "  'rejected',\n",
       "  'rejected'],\n",
       " ['accepted',\n",
       "  'accepted',\n",
       "  'accepted',\n",
       "  'accepted',\n",
       "  'accepted',\n",
       "  'accepted',\n",
       "  'accepted',\n",
       "  'accepted',\n",
       "  'accepted',\n",
       "  'accepted',\n",
       "  'accepted',\n",
       "  'rejected',\n",
       "  'rejected',\n",
       "  'rejected',\n",
       "  'rejected',\n",
       "  'rejected',\n",
       "  'rejected',\n",
       "  'rejected',\n",
       "  'rejected',\n",
       "  'rejected',\n",
       "  'rejected',\n",
       "  'rejected',\n",
       "  'rejected',\n",
       "  'rejected',\n",
       "  'rejected',\n",
       "  'rejected',\n",
       "  'rejected',\n",
       "  'rejected',\n",
       "  'rejected',\n",
       "  'rejected',\n",
       "  'rejected',\n",
       "  'rejected',\n",
       "  'rejected',\n",
       "  'rejected',\n",
       "  'rejected',\n",
       "  'rejected',\n",
       "  'rejected',\n",
       "  'rejected',\n",
       "  'rejected',\n",
       "  'rejected',\n",
       "  'rejected',\n",
       "  'rejected',\n",
       "  'rejected',\n",
       "  'rejected',\n",
       "  'rejected',\n",
       "  'rejected',\n",
       "  'rejected',\n",
       "  'rejected',\n",
       "  'rejected',\n",
       "  'rejected',\n",
       "  'rejected',\n",
       "  'rejected',\n",
       "  'rejected',\n",
       "  'rejected',\n",
       "  'rejected',\n",
       "  'rejected',\n",
       "  'rejected',\n",
       "  'rejected',\n",
       "  'rejected',\n",
       "  'rejected',\n",
       "  'rejected',\n",
       "  'rejected',\n",
       "  'rejected',\n",
       "  'rejected',\n",
       "  'rejected',\n",
       "  'rejected',\n",
       "  'rejected',\n",
       "  'rejected',\n",
       "  'rejected',\n",
       "  'rejected',\n",
       "  'rejected',\n",
       "  'rejected',\n",
       "  'rejected',\n",
       "  'rejected',\n",
       "  'rejected',\n",
       "  'rejected',\n",
       "  'rejected',\n",
       "  'rejected',\n",
       "  'rejected',\n",
       "  'rejected',\n",
       "  'rejected',\n",
       "  'rejected',\n",
       "  'rejected',\n",
       "  'rejected',\n",
       "  'rejected',\n",
       "  'rejected',\n",
       "  'rejected',\n",
       "  'rejected',\n",
       "  'rejected',\n",
       "  'rejected',\n",
       "  'rejected',\n",
       "  'rejected',\n",
       "  'rejected',\n",
       "  'rejected',\n",
       "  'rejected',\n",
       "  'rejected',\n",
       "  'rejected',\n",
       "  'rejected',\n",
       "  'rejected'],\n",
       " ['accepted',\n",
       "  'accepted',\n",
       "  'accepted',\n",
       "  'accepted',\n",
       "  'accepted',\n",
       "  'accepted',\n",
       "  'accepted',\n",
       "  'accepted',\n",
       "  'accepted',\n",
       "  'accepted',\n",
       "  'accepted',\n",
       "  'accepted',\n",
       "  'accepted',\n",
       "  'accepted',\n",
       "  'accepted'],\n",
       " ['accepted',\n",
       "  'accepted',\n",
       "  'accepted',\n",
       "  'accepted',\n",
       "  'accepted',\n",
       "  'accepted',\n",
       "  'accepted',\n",
       "  'accepted',\n",
       "  'accepted',\n",
       "  'accepted',\n",
       "  'accepted'])"
      ]
     },
     "execution_count": 43,
     "metadata": {},
     "output_type": "execute_result"
    }
   ],
   "source": [
    "compare_echantillon(s = 1,k=0.66,N_iter=100,pas=0.01,d=2,plot_= True,verbose =True)"
   ]
  },
  {
   "cell_type": "code",
   "execution_count": 45,
   "metadata": {},
   "outputs": [
    {
     "name": "stdout",
     "output_type": "stream",
     "text": [
      "proba of accepting H0 under H1 for JSD test =0.32\n",
      "proba of accepting H0 under H1 for MMD test =0.63\n"
     ]
    },
    {
     "data": {
      "image/png": "[encoded data removed]",
      "text/plain": [
       "<Figure size 432x288 with 1 Axes>"
      ]
     },
     "metadata": {
      "needs_background": "light"
     },
     "output_type": "display_data"
    },
    {
     "data": {
      "image/png": "[encoded data removed]",
      "text/plain": [
       "<Figure size 432x288 with 1 Axes>"
      ]
     },
     "metadata": {
      "needs_background": "light"
     },
     "output_type": "display_data"
    },
    {
     "data": {
      "text/plain": [
       "([11,\n",
       "  10,\n",
       "  9,\n",
       "  9,\n",
       "  9,\n",
       "  9,\n",
       "  9,\n",
       "  9,\n",
       "  9,\n",
       "  9,\n",
       "  9,\n",
       "  9,\n",
       "  9,\n",
       "  9,\n",
       "  6,\n",
       "  6,\n",
       "  5,\n",
       "  5,\n",
       "  5,\n",
       "  5,\n",
       "  4,\n",
       "  4,\n",
       "  4,\n",
       "  3,\n",
       "  4,\n",
       "  3,\n",
       "  3,\n",
       "  3,\n",
       "  3,\n",
       "  2,\n",
       "  2,\n",
       "  2,\n",
       "  1,\n",
       "  1,\n",
       "  0,\n",
       "  0,\n",
       "  0,\n",
       "  0,\n",
       "  0,\n",
       "  0,\n",
       "  0,\n",
       "  0,\n",
       "  0,\n",
       "  0,\n",
       "  0,\n",
       "  0,\n",
       "  0,\n",
       "  0,\n",
       "  0,\n",
       "  0,\n",
       "  0,\n",
       "  0,\n",
       "  0,\n",
       "  0,\n",
       "  0,\n",
       "  0,\n",
       "  0,\n",
       "  0,\n",
       "  0,\n",
       "  0,\n",
       "  0,\n",
       "  0,\n",
       "  0,\n",
       "  0,\n",
       "  0,\n",
       "  0,\n",
       "  0,\n",
       "  0,\n",
       "  0,\n",
       "  0,\n",
       "  0,\n",
       "  0,\n",
       "  0,\n",
       "  0,\n",
       "  0,\n",
       "  0,\n",
       "  0,\n",
       "  0,\n",
       "  0,\n",
       "  0,\n",
       "  0,\n",
       "  0,\n",
       "  0,\n",
       "  0,\n",
       "  0,\n",
       "  0,\n",
       "  0,\n",
       "  0,\n",
       "  0,\n",
       "  0,\n",
       "  0,\n",
       "  0,\n",
       "  0,\n",
       "  0,\n",
       "  0,\n",
       "  0,\n",
       "  0,\n",
       "  0,\n",
       "  0],\n",
       " [0.1215037202066417,\n",
       "  0.12181784806117638,\n",
       "  0.12213988920401508,\n",
       "  0.12246986377831745,\n",
       "  0.12280777998680435,\n",
       "  0.12315363394406813,\n",
       "  0.1235074096002109,\n",
       "  0.12386907873602637,\n",
       "  0.12423860102938479,\n",
       "  0.12461592419190147,\n",
       "  0.12500098417442934,\n",
       "  0.12539370543938982,\n",
       "  0.12579400129743473,\n",
       "  0.1262017743054533,\n",
       "  0.12661691672249192,\n",
       "  0.12703931101973936,\n",
       "  0.12746883044035592,\n",
       "  0.12790533960460104,\n",
       "  0.12834869515541947,\n",
       "  0.12879874643943054,\n",
       "  0.12925533621805585,\n",
       "  0.12971830140340396,\n",
       "  0.13018747381342935,\n",
       "  0.13066268094085062,\n",
       "  0.13114374673032403,\n",
       "  0.1316304923584138,\n",
       "  0.13212273701101457,\n",
       "  0.13262029865300234,\n",
       "  0.133122994785091,\n",
       "  0.133630643183064,\n",
       "  0.13414306261481682,\n",
       "  0.1346600735309041,\n",
       "  0.1351814987246059,\n",
       "  0.13570716395782415,\n",
       "  0.1362368985494902,\n",
       "  0.13677053592349744,\n",
       "  0.13730791411355223,\n",
       "  0.13784887622270406,\n",
       "  0.13839327083569852,\n",
       "  0.13894095238267865,\n",
       "  0.13949178145313096,\n",
       "  0.1400456250593571,\n",
       "  0.14060235684911182,\n",
       "  0.1411618572674062,\n",
       "  0.14172401366782947,\n",
       "  0.14228872037405807,\n",
       "  0.1428558786925569,\n",
       "  0.14342539687776298,\n",
       "  0.14399719005132372,\n",
       "  0.14457118007723438,\n",
       "  0.14514729539493712,\n",
       "  0.14572547081268564,\n",
       "  0.14630564726365328,\n",
       "  0.14688777152745028,\n",
       "  0.14747179591984663,\n",
       "  0.14805767795364394,\n",
       "  0.14864537997371133,\n",
       "  0.14923486876930633,\n",
       "  0.1498261151668298,\n",
       "  0.15041909360621247,\n",
       "  0.15101378170412832,\n",
       "  0.15161015980721884,\n",
       "  0.15220821053848171,\n",
       "  0.15280791833992036,\n",
       "  0.15340926901447305,\n",
       "  0.1540122492701672,\n",
       "  0.15461684626931127,\n",
       "  0.15522304718545096,\n",
       "  0.15583083877064718,\n",
       "  0.15644020693551702,\n",
       "  0.1570511363443019,\n",
       "  0.15766361002707932,\n",
       "  0.1582776090110513,\n",
       "  0.15889311197267553,\n",
       "  0.15951009491221826,\n",
       "  0.16012853085213097,\n",
       "  0.16074838956046422,\n",
       "  0.16136963730035755,\n",
       "  0.1619922366064559,\n",
       "  0.16261614608892774,\n",
       "  0.163241320265596,\n",
       "  0.163867709422509,\n",
       "  0.16449525950313362,\n",
       "  0.16512391202619217,\n",
       "  0.16575360403201664,\n",
       "  0.16638426805715717,\n",
       "  0.16701583213686247,\n",
       "  0.1676482198349115,\n",
       "  0.16828135030018512,\n",
       "  0.16891513834924737,\n",
       "  0.16954949457413,\n",
       "  0.17018432547441997,\n",
       "  0.17081953361267577,\n",
       "  0.17145501779214095,\n",
       "  0.17209067325565516,\n",
       "  0.1727263919046192,\n",
       "  0.17336206253682215,\n",
       "  0.17399757110190667,\n",
       "  0.17463280097321343],\n",
       " ['accepted',\n",
       "  'accepted',\n",
       "  'accepted',\n",
       "  'accepted',\n",
       "  'accepted',\n",
       "  'accepted',\n",
       "  'accepted',\n",
       "  'accepted',\n",
       "  'accepted',\n",
       "  'accepted',\n",
       "  'accepted',\n",
       "  'accepted',\n",
       "  'accepted',\n",
       "  'accepted',\n",
       "  'accepted',\n",
       "  'accepted',\n",
       "  'accepted',\n",
       "  'accepted',\n",
       "  'accepted',\n",
       "  'accepted',\n",
       "  'accepted',\n",
       "  'accepted',\n",
       "  'accepted',\n",
       "  'accepted',\n",
       "  'accepted',\n",
       "  'accepted',\n",
       "  'accepted',\n",
       "  'accepted',\n",
       "  'accepted',\n",
       "  'accepted',\n",
       "  'accepted',\n",
       "  'accepted',\n",
       "  'rejected',\n",
       "  'rejected',\n",
       "  'rejected',\n",
       "  'rejected',\n",
       "  'rejected',\n",
       "  'rejected',\n",
       "  'rejected',\n",
       "  'rejected',\n",
       "  'rejected',\n",
       "  'rejected',\n",
       "  'rejected',\n",
       "  'rejected',\n",
       "  'rejected',\n",
       "  'rejected',\n",
       "  'rejected',\n",
       "  'rejected',\n",
       "  'rejected',\n",
       "  'rejected',\n",
       "  'rejected',\n",
       "  'rejected',\n",
       "  'rejected',\n",
       "  'rejected',\n",
       "  'rejected',\n",
       "  'rejected',\n",
       "  'rejected',\n",
       "  'rejected',\n",
       "  'rejected',\n",
       "  'rejected',\n",
       "  'rejected',\n",
       "  'rejected',\n",
       "  'rejected',\n",
       "  'rejected',\n",
       "  'rejected',\n",
       "  'rejected',\n",
       "  'rejected',\n",
       "  'rejected',\n",
       "  'rejected',\n",
       "  'rejected',\n",
       "  'rejected',\n",
       "  'rejected',\n",
       "  'rejected',\n",
       "  'rejected',\n",
       "  'rejected',\n",
       "  'rejected',\n",
       "  'rejected',\n",
       "  'rejected',\n",
       "  'rejected',\n",
       "  'rejected',\n",
       "  'rejected',\n",
       "  'rejected',\n",
       "  'rejected',\n",
       "  'rejected',\n",
       "  'rejected',\n",
       "  'rejected',\n",
       "  'rejected',\n",
       "  'rejected',\n",
       "  'rejected',\n",
       "  'rejected',\n",
       "  'rejected',\n",
       "  'rejected',\n",
       "  'rejected',\n",
       "  'rejected',\n",
       "  'rejected',\n",
       "  'rejected',\n",
       "  'rejected',\n",
       "  'rejected',\n",
       "  'rejected'],\n",
       " ['accepted',\n",
       "  'accepted',\n",
       "  'accepted',\n",
       "  'accepted',\n",
       "  'accepted',\n",
       "  'accepted',\n",
       "  'accepted',\n",
       "  'accepted',\n",
       "  'accepted',\n",
       "  'accepted',\n",
       "  'accepted',\n",
       "  'accepted',\n",
       "  'accepted',\n",
       "  'accepted',\n",
       "  'accepted',\n",
       "  'accepted',\n",
       "  'accepted',\n",
       "  'accepted',\n",
       "  'accepted',\n",
       "  'accepted',\n",
       "  'accepted',\n",
       "  'accepted',\n",
       "  'accepted',\n",
       "  'accepted',\n",
       "  'accepted',\n",
       "  'accepted',\n",
       "  'accepted',\n",
       "  'accepted',\n",
       "  'accepted',\n",
       "  'accepted',\n",
       "  'accepted',\n",
       "  'accepted',\n",
       "  'accepted',\n",
       "  'accepted',\n",
       "  'accepted',\n",
       "  'accepted',\n",
       "  'accepted',\n",
       "  'accepted',\n",
       "  'accepted',\n",
       "  'accepted',\n",
       "  'accepted',\n",
       "  'accepted',\n",
       "  'accepted',\n",
       "  'accepted',\n",
       "  'accepted',\n",
       "  'accepted',\n",
       "  'accepted',\n",
       "  'accepted',\n",
       "  'accepted',\n",
       "  'accepted',\n",
       "  'accepted',\n",
       "  'accepted',\n",
       "  'accepted',\n",
       "  'accepted',\n",
       "  'accepted',\n",
       "  'accepted',\n",
       "  'accepted',\n",
       "  'accepted',\n",
       "  'accepted',\n",
       "  'accepted',\n",
       "  'accepted',\n",
       "  'accepted',\n",
       "  'accepted',\n",
       "  'rejected',\n",
       "  'rejected',\n",
       "  'rejected',\n",
       "  'rejected',\n",
       "  'rejected',\n",
       "  'rejected',\n",
       "  'rejected',\n",
       "  'rejected',\n",
       "  'rejected',\n",
       "  'rejected',\n",
       "  'rejected',\n",
       "  'rejected',\n",
       "  'rejected',\n",
       "  'rejected',\n",
       "  'rejected',\n",
       "  'rejected',\n",
       "  'rejected',\n",
       "  'rejected',\n",
       "  'rejected',\n",
       "  'rejected',\n",
       "  'rejected',\n",
       "  'rejected',\n",
       "  'rejected',\n",
       "  'rejected',\n",
       "  'rejected',\n",
       "  'rejected',\n",
       "  'rejected',\n",
       "  'rejected',\n",
       "  'rejected',\n",
       "  'rejected',\n",
       "  'rejected',\n",
       "  'rejected',\n",
       "  'rejected',\n",
       "  'rejected',\n",
       "  'rejected',\n",
       "  'rejected'],\n",
       " ['accepted',\n",
       "  'accepted',\n",
       "  'accepted',\n",
       "  'accepted',\n",
       "  'accepted',\n",
       "  'accepted',\n",
       "  'accepted',\n",
       "  'accepted',\n",
       "  'accepted',\n",
       "  'accepted',\n",
       "  'accepted',\n",
       "  'accepted',\n",
       "  'accepted',\n",
       "  'accepted',\n",
       "  'accepted',\n",
       "  'accepted',\n",
       "  'accepted',\n",
       "  'accepted',\n",
       "  'accepted',\n",
       "  'accepted',\n",
       "  'accepted',\n",
       "  'accepted',\n",
       "  'accepted',\n",
       "  'accepted',\n",
       "  'accepted',\n",
       "  'accepted',\n",
       "  'accepted',\n",
       "  'accepted',\n",
       "  'accepted',\n",
       "  'accepted',\n",
       "  'accepted',\n",
       "  'accepted'],\n",
       " ['accepted',\n",
       "  'accepted',\n",
       "  'accepted',\n",
       "  'accepted',\n",
       "  'accepted',\n",
       "  'accepted',\n",
       "  'accepted',\n",
       "  'accepted',\n",
       "  'accepted',\n",
       "  'accepted',\n",
       "  'accepted',\n",
       "  'accepted',\n",
       "  'accepted',\n",
       "  'accepted',\n",
       "  'accepted',\n",
       "  'accepted',\n",
       "  'accepted',\n",
       "  'accepted',\n",
       "  'accepted',\n",
       "  'accepted',\n",
       "  'accepted',\n",
       "  'accepted',\n",
       "  'accepted',\n",
       "  'accepted',\n",
       "  'accepted',\n",
       "  'accepted',\n",
       "  'accepted',\n",
       "  'accepted',\n",
       "  'accepted',\n",
       "  'accepted',\n",
       "  'accepted',\n",
       "  'accepted',\n",
       "  'accepted',\n",
       "  'accepted',\n",
       "  'accepted',\n",
       "  'accepted',\n",
       "  'accepted',\n",
       "  'accepted',\n",
       "  'accepted',\n",
       "  'accepted',\n",
       "  'accepted',\n",
       "  'accepted',\n",
       "  'accepted',\n",
       "  'accepted',\n",
       "  'accepted',\n",
       "  'accepted',\n",
       "  'accepted',\n",
       "  'accepted',\n",
       "  'accepted',\n",
       "  'accepted',\n",
       "  'accepted',\n",
       "  'accepted',\n",
       "  'accepted',\n",
       "  'accepted',\n",
       "  'accepted',\n",
       "  'accepted',\n",
       "  'accepted',\n",
       "  'accepted',\n",
       "  'accepted',\n",
       "  'accepted',\n",
       "  'accepted',\n",
       "  'accepted',\n",
       "  'accepted'])"
      ]
     },
     "execution_count": 45,
     "metadata": {},
     "output_type": "execute_result"
    }
   ],
   "source": [
    "compare_echantillon(s = 3,k=0.66,N_iter=100,pas=0.01,d=2,plot_= True,verbose = True)"
   ]
  },
  {
   "cell_type": "markdown",
   "metadata": {},
   "source": [
    "problem erreur MMD"
   ]
  }
 ],
 "metadata": {
  "kernelspec": {
   "display_name": "Python 3",
   "language": "python",
   "name": "python3"
  },
  "language_info": {
   "codemirror_mode": {
    "name": "ipython",
    "version": 3
   },
   "file_extension": ".py",
   "mimetype": "text/x-python",
   "name": "python",
   "nbconvert_exporter": "python",
   "pygments_lexer": "ipython3",
   "version": "3.7.0"
  }
 },
 "nbformat": 4,
 "nbformat_minor": 2
}
