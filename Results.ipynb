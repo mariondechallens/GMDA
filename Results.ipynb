{
 "cells": [
  {
   "cell_type": "code",
   "execution_count": 1,
   "metadata": {},
   "outputs": [],
   "source": [
    "import pandas as pd\n",
    "import numpy as np\n",
    "import matplotlib.pyplot as plt\n",
    "from scipy.spatial.distance import pdist, squareform\n",
    "\n",
    "from kernel import *\n",
    "from MMD import *\n",
    "from feedback import *\n",
    "\n",
    "%load_ext autoreload\n",
    "%autoreload 2"
   ]
  },
  {
   "cell_type": "markdown",
   "metadata": {},
   "source": [
    "# Question 2 : Data generation"
   ]
  },
  {
   "cell_type": "code",
   "execution_count": 2,
   "metadata": {},
   "outputs": [
    {
     "data": {
      "image/png": "[encoded data removed]",
      "text/plain": [
       "<Figure size 432x288 with 1 Axes>"
      ]
     },
     "metadata": {
      "needs_background": "light"
     },
     "output_type": "display_data"
    }
   ],
   "source": [
    "def gaussian_mix(d,N,t,n,s=1, seed=1):\n",
    "    np.random.seed(seed)\n",
    "    cov = np.identity(d)\n",
    "    mean = np.zeros(d)\n",
    "    n_tot = N*n\n",
    "    res = np.zeros((d,n_tot))\n",
    "    for i in range(N):\n",
    "        gaus = np.random.multivariate_normal(mean + t*i, cov*(s**i),n).T\n",
    "        for j in range(d):\n",
    "            res[j][i*n:(i+1)*n] = gaus[j]\n",
    "            \n",
    "    return(res)  \n",
    "\n",
    "g1 = gaussian_mix(d=2,N=3,t=1,n=500, seed=1) \n",
    "g2 = gaussian_mix(d=2,N=3,t=12,n=500, seed=1) \n",
    "\n",
    "plt.scatter(g1[0], g1[1], label=\"g1\")\n",
    "plt.scatter(g2[0], g2[1], label=\"g2\")\n",
    "plt.legend()\n",
    "plt.show()"
   ]
  },
  {
   "cell_type": "markdown",
   "metadata": {},
   "source": [
    "# Question 3 : MMD and type I error"
   ]
  },
  {
   "cell_type": "markdown",
   "metadata": {},
   "source": [
    "The MMD test is now implemented.\n",
    "\n",
    "#### TODO : Propose a strategy to check whether MMD is a test of level α. Then, present experiments on the gaussian data. Discuss the results.\n",
    "\n",
    "The level alpha of a test is an upper bound of the probability of type I error (rejecting H0 while it is true).\n",
    "A TST of level alpha using MMD as test statistic has the acceptance region  : MMD <= sqrt(2K/m) (1 + sqrt(2log(1/alpha))).\n",
    "We have to check if the probability of rejecting H0 while it is true (type I error) with the MMD TST is upper-bounded by alpha."
   ]
  },
  {
   "cell_type": "code",
   "execution_count": 3,
   "metadata": {},
   "outputs": [
    {
     "name": "stdout",
     "output_type": "stream",
     "text": [
      "MMD test of level alpha=0.05, biased=True estimator\n",
      "Kernel: Gaussian Kernel with sigma=1\n",
      "Result: H0 rejected, test statistic=0.448491693291057 > threshold=0.1258939141153885\n",
      "Wall time: 384 ms\n"
     ]
    }
   ],
   "source": [
    "%%time\n",
    "kernel_class = GaussianKernel()\n",
    "test = MMD_test(kernel_class=kernel_class, alpha=0.05, biased=True)\n",
    "\n",
    "test.fit(X=g1, Y=g2, verbose=True)\n",
    "test.get_results()"
   ]
  },
  {
   "cell_type": "code",
   "execution_count": 11,
   "metadata": {},
   "outputs": [
    {
     "data": {
      "text/plain": [
       "0.0"
      ]
     },
     "execution_count": 11,
     "metadata": {},
     "output_type": "execute_result"
    }
   ],
   "source": [
    "N = 100\n",
    "res = []\n",
    "kernel_class = GaussianKernel()\n",
    "for i in range(N):\n",
    "    g1 = gaussian_mix(d=2,N=3,t=1,n=500, seed=1) \n",
    "    g2 = gaussian_mix(d=2,N=3,t=1,n=500, seed=1) \n",
    "\n",
    "    test = MMD_test(kernel_class=kernel_class, alpha=0.05, biased=True)\n",
    "\n",
    "    test.fit(X=g1, Y=g2, verbose=False)\n",
    "    res.append(test.test_result)\n",
    "\n",
    "err = [x for x in res if x == 'rejected']\n",
    "p = len(err)/N\n",
    "p"
   ]
  },
  {
   "cell_type": "code",
   "execution_count": 23,
   "metadata": {},
   "outputs": [
    {
     "data": {
      "text/plain": [
       "1.0"
      ]
     },
     "execution_count": 23,
     "metadata": {},
     "output_type": "execute_result"
    }
   ],
   "source": [
    "N = 10\n",
    "res = []\n",
    "kernel_class = GaussianKernel()\n",
    "for i in range(N):\n",
    "    g1 = gaussian_mix(d=2,N=3,t=1,n=500, seed=1) \n",
    "    g2 = gaussian_mix(d=2,N=3,t=1,n=500, seed=1) \n",
    "\n",
    "    test = MMD_test(kernel_class=kernel_class, alpha=0.05, biased=True)\n",
    "\n",
    "    test.fit(X=g1, Y=g2, verbose=False)\n",
    "    res.append(test.T-test.threshold)\n",
    "\n",
    "y = [x for x  in res if x <= 0]\n",
    "len(y)/N"
   ]
  },
  {
   "cell_type": "markdown",
   "metadata": {},
   "source": [
    "par def du test, on a mis le threshold tel que le niveau soit alpha...."
   ]
  },
  {
   "cell_type": "code",
   "execution_count": 18,
   "metadata": {},
   "outputs": [
    {
     "name": "stdout",
     "output_type": "stream",
     "text": [
      "MMD test of level alpha=0.05, biased=True estimator\n",
      "Kernel: Gaussian Kernel with sigma=1\n",
      "Result: H0 accepted, test statistic=0.03881446934016507 <= threshold=0.1258939141153885\n"
     ]
    }
   ],
   "source": [
    "g1 = gaussian_mix(d=2,N=3,t=1,n=500, seed=1) \n",
    "g2 = gaussian_mix(d=2,N=3,t=1.1,n=500, seed=1) \n",
    "test = MMD_test(kernel_class=kernel_class, alpha=0.05, biased=True)\n",
    "test.fit(X=g1, Y=g2, verbose=True)\n",
    "   "
   ]
  },
  {
   "cell_type": "markdown",
   "metadata": {},
   "source": [
    "#### Verification with old implementation"
   ]
  },
  {
   "cell_type": "code",
   "execution_count": 4,
   "metadata": {},
   "outputs": [],
   "source": [
    "from itertools import product   \n",
    "\n",
    "def gauss_kernel(x,y,s=1):\n",
    "    k = np.exp(-sum((x-y)**2)/(2*(s**2)))\n",
    "    return k\n",
    "\n",
    "def threshold(n,alpha=0.05):  # gauss kernel <=1, K = 1\n",
    "    t = np.sqrt(2/n)*(1+np.sqrt(2*np.log(1/alpha)))  #need n=m\n",
    "    return(t)\n",
    "\n",
    "def MMD2(g1,g2): # moins long ?\n",
    "    n = len(g1[0])\n",
    "    m = len(g2[0])\n",
    "    \n",
    "    mmd1 = [gauss_kernel(g1.T[i],g1.T[j])/n**2 for i,j in product(range(n),range(n))]\n",
    "    mmd2 = [gauss_kernel(g2.T[i],g2.T[j])/m**2 for i,j in product(range(m),range(m))]\n",
    "    mmd3 = [-2*gauss_kernel(g1.T[i],g2.T[j])/(m*n) for i,j in product(range(n),range(m))]\n",
    "    \n",
    "    MMD = np.sqrt(sum(mmd1) + sum(mmd2) + sum(mmd3))\n",
    "    \n",
    "    return(MMD) \n",
    "\n",
    "    \n",
    "def TST_MMD(g1,g2,alpha=0.05):\n",
    "    if len(g1) != len(g2):\n",
    "        print('data must have the same dimension')\n",
    "        mmd = 0\n",
    "        t=0\n",
    "\n",
    "    if len(g1[0]) != len(g1[0]):\n",
    "        print('data must have the same number of points')\n",
    "        mmd = 0\n",
    "        t = 0\n",
    "\n",
    "    if len(g1) == len(g2) and len(g1[0]) == len(g1[0]) :\n",
    "        mmd = MMD2(g1,g2)\n",
    "        t = threshold(len(g1[0]), alpha)\n",
    "        if mmd <= t:\n",
    "            print('H0 accepted at level',alpha)\n",
    "        else:\n",
    "            print('H0 rejected at level',alpha)\n",
    "    \n",
    "    return mmd, t"
   ]
  },
  {
   "cell_type": "code",
   "execution_count": 5,
   "metadata": {},
   "outputs": [
    {
     "name": "stdout",
     "output_type": "stream",
     "text": [
      "H0 rejected at level 0.05\n",
      "Wall time: 2min 7s\n"
     ]
    },
    {
     "data": {
      "text/plain": [
       "(0.44849169329103433, 0.1258939141153885)"
      ]
     },
     "execution_count": 5,
     "metadata": {},
     "output_type": "execute_result"
    }
   ],
   "source": [
    "%%time\n",
    "TST_MMD(g1,g2)"
   ]
  },
  {
   "cell_type": "markdown",
   "metadata": {},
   "source": [
    "# Question 4 : TST versus feedback under the null hypothesis.\n",
    "\n",
    "Sources : \n",
    "+ the course notes (1 Introduction to statistical hypothesis testing and two-sample tests),  \n",
    "+ B. Phipson and G.K. Smyth \"Permutation p-values should never be zero: calculating exact p- values when permutations are randomly drawn.\", Statistical Applications in Genetics and Molecular Biology, 9(1), 2010, and the SBL library\n",
    "\n",
    "Course notes eq 1.19 defines $b$ as the test statistic : it is the number of random datasets yielding a test statistic larger than that obtained\n",
    "on the observed dataset. Section 1.6.4 with eq 1.25 defines the p_value as $\\hat{p} = \\frac{b+1}{I + 1}$ (NB : `I` is `m` in the code following the notations from Phipson & Al.) in the case of a permutation test with no replacement.\n",
    "\n",
    "The JSD of each dataset will be taken as the average JSD of each point.\n",
    "\n",
    "The algorithm is as follows : \n",
    "1. Compute JSD using original labels\n",
    "2. Until `n_permutations` different permutations is done:\n",
    "    + Compute a new permutation over labels\n",
    "    + Check if it is a new permutation\n",
    "    + if yes : estimate JSD\n",
    "3. $b = \\sum_{permutation} \\mathbb{1}_{JSD_{permutation} > JSD_{obs}}$\n",
    "4. $p = \\frac{b+1}{n_{permutations} + 1}$\n",
    "5. Test result : accept if $p > \\alpha$ else reject\n",
    "\n",
    "We follow `sbl-ddbc-step-1-discrepancy.py` for computing local JSD but the subsample module in `random_device` is not used : permutation is rewritten."
   ]
  },
  {
   "cell_type": "markdown",
   "metadata": {},
   "source": [
    "Under $H_0$ : test should be accepted"
   ]
  },
  {
   "cell_type": "code",
   "execution_count": 6,
   "metadata": {},
   "outputs": [
    {
     "data": {
      "image/png": "[encoded data removed]",
      "text/plain": [
       "<Figure size 432x288 with 1 Axes>"
      ]
     },
     "metadata": {
      "needs_background": "light"
     },
     "output_type": "display_data"
    },
    {
     "name": "stdout",
     "output_type": "stream",
     "text": [
      "Feedback test of level alpha=0.05\n",
      "Number of permutations=50\n",
      "jsd_obs=0.015571730825168521, mean jsd_permutations=0.012853614982934214\n",
      "Result: H0 accepted, test statistic=8, p_value=0.17647058823529413 >= alpha=0.05\n",
      "Wall time: 1.74 s\n"
     ]
    }
   ],
   "source": [
    "%%time\n",
    "###################### PARAMETERS ########################\n",
    "n_permutations = 50  # number of permutation tests\n",
    "g1 = gaussian_mix(d=2,N=2,t=10,n=200, s=5, seed=1) \n",
    "g2 = gaussian_mix(d=2,N=2,t=10,n=200, s=5, seed=2)  # should be identical to g1 except for random seed\n",
    "##########################################################\n",
    "plt.scatter(g1[0], g1[1], label=\"g1\")\n",
    "plt.scatter(g2[0], g2[1], label=\"g2\")\n",
    "plt.legend()\n",
    "plt.show()\n",
    "\n",
    "rd.seed(0)\n",
    "kofn_power = 0.66\n",
    "fk = DDBC_feedback(\n",
    "    g1, g2,\n",
    ")\n",
    "fk.permutation_test(n_permutations=n_permutations)\n",
    "print(fk)"
   ]
  },
  {
   "cell_type": "markdown",
   "metadata": {},
   "source": [
    "# Question 5 : TST versus feedback under the alternative"
   ]
  },
  {
   "cell_type": "markdown",
   "metadata": {},
   "source": [
    "Under $H_1$ : test should be rejected"
   ]
  },
  {
   "cell_type": "code",
   "execution_count": 7,
   "metadata": {},
   "outputs": [
    {
     "data": {
      "image/png": "[encoded data removed]",
      "text/plain": [
       "<Figure size 432x288 with 1 Axes>"
      ]
     },
     "metadata": {
      "needs_background": "light"
     },
     "output_type": "display_data"
    },
    {
     "name": "stdout",
     "output_type": "stream",
     "text": [
      "Feedback test of level alpha=0.05\n",
      "Number of permutations=50\n",
      "jsd_obs=0.45222371256371524, mean jsd_permutations=0.014271674090087958\n",
      "Result: H0 rejected, test statistic=0, p_value=0.0196078431372549 < alpha=0.05\n",
      "Wall time: 1.77 s\n"
     ]
    }
   ],
   "source": [
    "%%time\n",
    "###################### PARAMETERS ########################\n",
    "n_permutations = 50  # number of permutation tests\n",
    "g1 = gaussian_mix(d=2,N=3,t=5,n=100, s=1, seed=1) \n",
    "g2 = gaussian_mix(d=2,N=3,t=0,n=100, s=1, seed=2)  # should be different from g1\n",
    "##########################################################\n",
    "\n",
    "plt.scatter(g1[0], g1[1], label=\"g1\")\n",
    "plt.scatter(g2[0], g2[1], label=\"g2\")\n",
    "plt.legend()\n",
    "plt.show()\n",
    "\n",
    "rd.seed(0)\n",
    "kofn_power = 0.66\n",
    "fk = DDBC_feedback(\n",
    "    g1, g2,\n",
    ")\n",
    "fk.permutation_test(n_permutations=n_permutations)\n",
    "print(fk)"
   ]
  },
  {
   "cell_type": "markdown",
   "metadata": {},
   "source": [
    "### Comparison of the variation of the test statistic of MMD, and that of the JS divergence returned by the feedback"
   ]
  },
  {
   "cell_type": "code",
   "execution_count": 12,
   "metadata": {},
   "outputs": [
    {
     "data": {
      "image/png": "[encoded data removed]",
      "text/plain": [
       "<Figure size 432x288 with 1 Axes>"
      ]
     },
     "metadata": {
      "needs_background": "light"
     },
     "output_type": "display_data"
    },
    {
     "name": "stdout",
     "output_type": "stream",
     "text": [
      "JSD Test statistic\n",
      "0\n",
      "MMD Test statistic\n",
      "0.45602427920900546\n",
      "Wall time: 1.23 s\n"
     ]
    }
   ],
   "source": [
    "%%time\n",
    "###################### PARAMETERS ########################\n",
    "n_permutations = 50  # number of permutation tests\n",
    "g1 = gaussian_mix(d=2,N=3,t=5,n=100, s=1, seed=1) \n",
    "g2 = gaussian_mix(d=2,N=3,t=0,n=100, s=1, seed=2)  # should be different from g1\n",
    "##########################################################\n",
    "\n",
    "plt.scatter(g1[0], g1[1], label=\"g1\")\n",
    "plt.scatter(g2[0], g2[1], label=\"g2\")\n",
    "plt.legend()\n",
    "plt.show()\n",
    "\n",
    "rd.seed(0)\n",
    "kofn_power = 0.66\n",
    "fk = DDBC_feedback(\n",
    "    g1, g2,\n",
    ")\n",
    "fk.permutation_test(n_permutations=n_permutations)\n",
    "print('JSD Test statistic')\n",
    "print(fk.b)\n",
    "\n",
    "kernel_class = GaussianKernel()\n",
    "test = MMD_test(kernel_class=kernel_class, alpha=0.05, biased=True)\n",
    "\n",
    "test.fit(X=g1, Y=g2, verbose=False)\n",
    "print('MMD Test statistic')\n",
    "print(test.T)"
   ]
  },
  {
   "cell_type": "code",
   "execution_count": 13,
   "metadata": {},
   "outputs": [],
   "source": [
    "def compare(g1,g2):\n",
    "    \n",
    "    #JSD\n",
    "    rd.seed(0)\n",
    "    kofn_power = 0.66\n",
    "    fk = DDBC_feedback(\n",
    "        g1, g2,\n",
    "    )\n",
    "        \n",
    "    fk.permutation_test(n_permutations=n_permutations)\n",
    "\n",
    "    #MMD\n",
    "    kernel_class = GaussianKernel()\n",
    "    test = MMD_test(kernel_class=kernel_class, alpha=0.05, biased=True)\n",
    "\n",
    "    test.fit(X=g1, Y=g2, verbose=False)\n",
    "\n",
    "    return fk.b, test.T"
   ]
  },
  {
   "cell_type": "code",
   "execution_count": 38,
   "metadata": {},
   "outputs": [],
   "source": [
    "l_j = []\n",
    "l_m = []\n",
    "\n",
    "g2 = gaussian_mix(d=2,N=3,t=0,n=100, s=1, seed=2)\n",
    "for t in range(1,11):\n",
    "    g1 = gaussian_mix(d=2,N=3,t=t*0.1,n=100, s=1, seed=1)\n",
    "    comparison  = compare(g1,g2)\n",
    "    l_j.append(comparison[0])\n",
    "    l_m.append(comparison[1])\n",
    "    \n",
    "df = pd.DataFrame()\n",
    "df['JSD'] = l_j\n",
    "df['MMD'] = l_m\n",
    "df['translation'] = range(1,11)\n",
    "df['translation'] = df['translation']*0.1"
   ]
  },
  {
   "cell_type": "code",
   "execution_count": 39,
   "metadata": {},
   "outputs": [
    {
     "data": {
      "text/html": [
       "<div>\n",
       "<style scoped>\n",
       "    .dataframe tbody tr th:only-of-type {\n",
       "        vertical-align: middle;\n",
       "    }\n",
       "\n",
       "    .dataframe tbody tr th {\n",
       "        vertical-align: top;\n",
       "    }\n",
       "\n",
       "    .dataframe thead th {\n",
       "        text-align: right;\n",
       "    }\n",
       "</style>\n",
       "<table border=\"1\" class=\"dataframe\">\n",
       "  <thead>\n",
       "    <tr style=\"text-align: right;\">\n",
       "      <th></th>\n",
       "      <th>JSD</th>\n",
       "      <th>MMD</th>\n",
       "      <th>translation</th>\n",
       "    </tr>\n",
       "  </thead>\n",
       "  <tbody>\n",
       "    <tr>\n",
       "      <th>0</th>\n",
       "      <td>0</td>\n",
       "      <td>0.124594</td>\n",
       "      <td>0.1</td>\n",
       "    </tr>\n",
       "    <tr>\n",
       "      <th>1</th>\n",
       "      <td>0</td>\n",
       "      <td>0.162645</td>\n",
       "      <td>0.2</td>\n",
       "    </tr>\n",
       "    <tr>\n",
       "      <th>2</th>\n",
       "      <td>0</td>\n",
       "      <td>0.199009</td>\n",
       "      <td>0.3</td>\n",
       "    </tr>\n",
       "    <tr>\n",
       "      <th>3</th>\n",
       "      <td>0</td>\n",
       "      <td>0.232830</td>\n",
       "      <td>0.4</td>\n",
       "    </tr>\n",
       "    <tr>\n",
       "      <th>4</th>\n",
       "      <td>0</td>\n",
       "      <td>0.263655</td>\n",
       "      <td>0.5</td>\n",
       "    </tr>\n",
       "    <tr>\n",
       "      <th>5</th>\n",
       "      <td>0</td>\n",
       "      <td>0.291260</td>\n",
       "      <td>0.6</td>\n",
       "    </tr>\n",
       "    <tr>\n",
       "      <th>6</th>\n",
       "      <td>0</td>\n",
       "      <td>0.315592</td>\n",
       "      <td>0.7</td>\n",
       "    </tr>\n",
       "    <tr>\n",
       "      <th>7</th>\n",
       "      <td>0</td>\n",
       "      <td>0.336733</td>\n",
       "      <td>0.8</td>\n",
       "    </tr>\n",
       "    <tr>\n",
       "      <th>8</th>\n",
       "      <td>0</td>\n",
       "      <td>0.354874</td>\n",
       "      <td>0.9</td>\n",
       "    </tr>\n",
       "    <tr>\n",
       "      <th>9</th>\n",
       "      <td>0</td>\n",
       "      <td>0.370281</td>\n",
       "      <td>1.0</td>\n",
       "    </tr>\n",
       "  </tbody>\n",
       "</table>\n",
       "</div>"
      ],
      "text/plain": [
       "   JSD       MMD  translation\n",
       "0    0  0.124594          0.1\n",
       "1    0  0.162645          0.2\n",
       "2    0  0.199009          0.3\n",
       "3    0  0.232830          0.4\n",
       "4    0  0.263655          0.5\n",
       "5    0  0.291260          0.6\n",
       "6    0  0.315592          0.7\n",
       "7    0  0.336733          0.8\n",
       "8    0  0.354874          0.9\n",
       "9    0  0.370281          1.0"
      ]
     },
     "execution_count": 39,
     "metadata": {},
     "output_type": "execute_result"
    }
   ],
   "source": [
    "df"
   ]
  },
  {
   "cell_type": "code",
   "execution_count": 27,
   "metadata": {},
   "outputs": [],
   "source": []
  }
 ],
 "metadata": {
  "kernelspec": {
   "display_name": "Python 3",
   "language": "python",
   "name": "python3"
  },
  "language_info": {
   "codemirror_mode": {
    "name": "ipython",
    "version": 3
   },
   "file_extension": ".py",
   "mimetype": "text/x-python",
   "name": "python",
   "nbconvert_exporter": "python",
   "pygments_lexer": "ipython3",
   "version": "3.7.0"
  }
 },
 "nbformat": 4,
 "nbformat_minor": 2
}
